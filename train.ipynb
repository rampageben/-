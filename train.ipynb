{
 "cells": [
  {
   "cell_type": "code",
   "execution_count": 1,
   "metadata": {},
   "outputs": [],
   "source": [
    "import os\n",
    "import pandas as pd\n",
    "import torch\n",
    "import numpy as np\n",
    "import torch.nn as nn\n",
    "from torch.utils.data import Dataset, random_split, DataLoader\n",
    "from tqdm import tqdm"
   ]
  },
  {
   "cell_type": "code",
   "execution_count": 2,
   "metadata": {},
   "outputs": [],
   "source": [
    "model_name = 'LSTM'\n",
    "epochs = 1000\n",
    "batch_size = 32\n",
    "learning_rate = 0.0001\n",
    "model_path = 'model'\n",
    "only_save = False\n",
    "patience = 50\n",
    "verbose = True\n",
    "device = torch.device('mps' if torch.backends.mps.is_available() else 'cpu')"
   ]
  },
  {
   "cell_type": "code",
   "execution_count": 4,
   "metadata": {},
   "outputs": [],
   "source": [
    "# PyTorch Dataset 類\n",
    "class StockDataset(Dataset):\n",
    "    def __init__(self, input_folder, target_folder, stock_list, year_list):\n",
    "        self.data = []\n",
    "        self.targets = []\n",
    "\n",
    "        for stock in stock_list:\n",
    "            stock_input_folder = os.path.join(input_folder, stock)\n",
    "            stock_target_folder = os.path.join(target_folder, stock)\n",
    "\n",
    "            if not os.path.exists(stock_input_folder):\n",
    "                print(f\"Stock folder {stock} does not exist in input.\")\n",
    "                continue\n",
    "\n",
    "            if not os.path.exists(stock_target_folder):\n",
    "                print(f\"Stock folder {stock} does not exist in target.\")\n",
    "                continue\n",
    "\n",
    "            for year in year_list:\n",
    "                year_input_folder = os.path.join(stock_input_folder, year)\n",
    "                target_file_path = os.path.join(stock_target_folder, f\"{stock}_{year}_daily_data.csv\")\n",
    "\n",
    "                if not os.path.exists(year_input_folder):\n",
    "                    print(f\"Year folder {year} for stock {stock} does not exist in input.\")\n",
    "                    continue\n",
    "\n",
    "                if not os.path.exists(target_file_path):\n",
    "                    print(f\"Target file {target_file_path} does not exist.\")\n",
    "                    continue\n",
    "\n",
    "                # 讀取目標資料\n",
    "                try:\n",
    "                    target_df = pd.read_csv(target_file_path)\n",
    "                    target_map = {\n",
    "                        row['date']: {\n",
    "                            'high': row['high'],\n",
    "                            'low': row['low'],\n",
    "                            'close': row['close'],\n",
    "                            'large_business': row['large_business']\n",
    "                        } for _, row in target_df.iterrows()\n",
    "                    }\n",
    "                except Exception as e:\n",
    "                    print(f\"Error reading target file {target_file_path}: {e}\")\n",
    "                    continue\n",
    "\n",
    "                # 遍歷一天資料 (30筆) 的 CSV\n",
    "                for file_name in os.listdir(year_input_folder):\n",
    "                    if file_name.endswith(\"_top30_data.csv\"):\n",
    "                        input_file_path = os.path.join(year_input_folder, file_name)\n",
    "\n",
    "                        try:\n",
    "                            # 讀取一天的輸入資料\n",
    "                            df = pd.read_csv(input_file_path)\n",
    "\n",
    "                            # 檢查資料是否有內容\n",
    "                            if df.empty or len(df) != 30:\n",
    "                                print(f\"File {input_file_path} has invalid data.\")\n",
    "                                continue\n",
    "\n",
    "                            # 輸入數據：一天的數據作為輸入 (30筆)\n",
    "                            input_data = df[['open', 'high', 'low', 'close', 'volume']].values\n",
    "\n",
    "                            # 匹配目標數據\n",
    "                            date_key = file_name.split(\"_\")[1]  # 提取年月日\n",
    "                            if date_key not in target_map:\n",
    "                                print(f\"Target for {date_key} not found in {target_file_path}.\")\n",
    "                                continue\n",
    "\n",
    "                            target_data = target_map[date_key]\n",
    "                            target_tensor = torch.tensor(\n",
    "                                [\n",
    "                                    target_data['high'],\n",
    "                                    target_data['low'],\n",
    "                                    target_data['close'],\n",
    "                                    target_data['large_business']\n",
    "                                ],\n",
    "                                dtype=torch.float32\n",
    "                            )\n",
    "\n",
    "                            self.data.append(input_data)\n",
    "                            self.targets.append(target_tensor)\n",
    "\n",
    "                        except Exception as e:\n",
    "                            print(f\"Error processing file {input_file_path}: {e}\")\n",
    "\n",
    "    def __len__(self):\n",
    "        return len(self.data)\n",
    "\n",
    "    def __getitem__(self, idx):\n",
    "        return torch.tensor(self.data[idx], dtype=torch.float32), self.targets[idx]\n"
   ]
  },
  {
   "cell_type": "code",
   "execution_count": 5,
   "metadata": {},
   "outputs": [
    {
     "name": "stdout",
     "output_type": "stream",
     "text": [
      "Train Batch 0 - Inputs: torch.Size([32, 30, 5]), Targets: torch.Size([32, 4])\n",
      "Validation Batch 0 - Inputs: torch.Size([32, 30, 5]), Targets: torch.Size([32, 4])\n"
     ]
    }
   ],
   "source": [
    "# 使用範例\n",
    "input_folder = \"final_input\"\n",
    "target_folder = \"final_output\"\n",
    "# 股票清單\n",
    "stock_list = [\"2308\"]\n",
    "# 年份清單\n",
    "year_list = [\"2020\", \"2021\", \"2022\"]\n",
    "# 建立 Dataset\n",
    "stock_dataset = StockDataset(input_folder, target_folder, stock_list, year_list)\n",
    "\n",
    "# 切分訓練集和驗證集\n",
    "train_size = int(0.8 * len(stock_dataset))\n",
    "valid_size = len(stock_dataset) - train_size\n",
    "train_dataset, valid_dataset = random_split(stock_dataset, [train_size, valid_size])\n",
    "\n",
    "# 建立 DataLoader\n",
    "train_loader = DataLoader(train_dataset, batch_size=batch_size, shuffle=True)\n",
    "valid_loader = DataLoader(valid_dataset, batch_size=batch_size, shuffle=False)\n",
    "\n",
    "# 測試 DataLoader\n",
    "for batch_idx, (inputs, targets) in enumerate(train_loader):\n",
    "    print(f\"Train Batch {batch_idx} - Inputs: {inputs.shape}, Targets: {targets.shape}\")\n",
    "    break\n",
    "\n",
    "for batch_idx, (inputs, targets) in enumerate(valid_loader):\n",
    "    print(f\"Validation Batch {batch_idx} - Inputs: {inputs.shape}, Targets: {targets.shape}\")\n",
    "    break\n"
   ]
  },
  {
   "cell_type": "code",
   "execution_count": 6,
   "metadata": {},
   "outputs": [],
   "source": [
    "# # 定義 LSTM 模型 v1 0.6572\n",
    "# class LSTM(nn.Module):\n",
    "#     def __init__(self, input_size=5, output_size=4):\n",
    "#         super(LSTM, self).__init__()\n",
    "#         self.lstm1 = nn.LSTM(input_size=input_size, hidden_size=128, batch_first=True, bidirectional=True)  # 輸入大小改為 5\n",
    "#         self.mish = nn.Mish()\n",
    "#         self.lstm2 = nn.LSTM(input_size=256, hidden_size=128, batch_first=True, bidirectional=True)\n",
    "#         self.batch_norm1 = nn.LayerNorm(256)  # 處理最後一個時間步[:, -1, :]\n",
    "#         self.fc1 = nn.Linear(256, 128)\n",
    "#         self.fc2 = nn.Linear(128, 64)\n",
    "#         self.fc3 = nn.Linear(64, 16)  # 輸出大小改為 output_size - 1 (前 3 個數值)\n",
    "#         self.fc4 = nn.Linear(16, output_size - 1)  # 輸出大小改為 output_size - 1 (前 3 個數值)\n",
    "#         self.fc_sigmoid = nn.Linear(16, 1)  # 單獨處理最後一個數值\n",
    "#         self.dropout = nn.Dropout(0.5)\n",
    "#         self.prelu1 = nn.PReLU()\n",
    "#         self.prelu2 = nn.PReLU()\n",
    "\n",
    "#         self._initialize_weights()\n",
    "\n",
    "#     def _initialize_weights(self):\n",
    "#         for m in self.modules():\n",
    "#             if isinstance(m, nn.Linear):\n",
    "#                 nn.init.kaiming_normal_(m.weight, nonlinearity='relu')\n",
    "#                 if m.bias is not None:\n",
    "#                     nn.init.constant_(m.bias, 0)\n",
    "#             elif isinstance(m, nn.LSTM):\n",
    "#                 for name, param in m.named_parameters():\n",
    "#                     if 'weight_ih' in name:\n",
    "#                         nn.init.kaiming_normal_(param.data, nonlinearity='relu')\n",
    "#                     elif 'weight_hh' in name:\n",
    "#                         nn.init.orthogonal_(param.data)\n",
    "#                     elif 'bias' in name:\n",
    "#                         nn.init.constant_(param.data, 0)\n",
    "#             elif isinstance(m, nn.BatchNorm1d):\n",
    "#                 nn.init.constant_(m.weight, 1)\n",
    "#                 nn.init.constant_(m.bias, 0)\n",
    "\n",
    "#     def forward(self, x):\n",
    "#         x, _ = self.lstm1(x)\n",
    "#         x = self.mish(x)\n",
    "#         x, _ = self.lstm2(x)\n",
    "#         x = self.mish(x)\n",
    "#         x = torch.mean(x, dim=1)\n",
    "#         # x = self.batch_norm1(x)  # 處理最後一個時間步[:, -1, :]\n",
    "#         x = self.fc1(x)\n",
    "#         x = self.prelu1(x)\n",
    "#         x = self.fc2(x)\n",
    "#         x = self.prelu2(x)\n",
    "#         x = self.fc3(x)\n",
    "#         if self.training:\n",
    "#             x = self.dropout(x)      \n",
    "#         # 分離兩部分輸出\n",
    "#         out_main = self.fc4(x)  # 前 3 個數值\n",
    "#         out_sigmoid = torch.sigmoid(self.fc_sigmoid(x))  # 單獨使用 Sigmoid 激活\n",
    "\n",
    "#         # 合併輸出\n",
    "#         output = torch.cat((out_main, out_sigmoid), dim=1)\n",
    "#         return output"
   ]
  },
  {
   "cell_type": "code",
   "execution_count": 7,
   "metadata": {},
   "outputs": [],
   "source": [
    "# # 定義 LSTM 模型 v2 6840\n",
    "# class LSTM(nn.Module):\n",
    "#     def __init__(self, input_size=5, output_size=4):\n",
    "#         super(LSTM, self).__init__()\n",
    "#         self.lstm1 = nn.LSTM(input_size=input_size, hidden_size=128, batch_first=True, bidirectional=True)  # 輸入大小改為 5\n",
    "#         self.mish = nn.Mish()\n",
    "#         self.lstm2 = nn.LSTM(input_size=256, hidden_size=128, batch_first=True, bidirectional=True)\n",
    "#         self.batch_norm1 = nn.BatchNorm1d(256)  # 處理最後一個時間步[:, -1, :]\n",
    "#         self.fc1 = nn.Linear(256, 128)\n",
    "#         self.fc2 = nn.Linear(128, 64)\n",
    "#         self.fc3 = nn.Linear(64, 16)  # 輸出大小改為 output_size - 1 (前 3 個數值)\n",
    "#         self.fc4 = nn.Linear(16, output_size - 1)  # 輸出大小改為 output_size - 1 (前 3 個數值)\n",
    "#         self.fc_sigmoid = nn.Linear(16, 1)  # 單獨處理最後一個數值\n",
    "#         self.dropout = nn.Dropout(0.5)\n",
    "\n",
    "#         self._initialize_weights()\n",
    "\n",
    "#     def _initialize_weights(self):\n",
    "#         for m in self.modules():\n",
    "#             if isinstance(m, nn.Linear):\n",
    "#                 nn.init.kaiming_normal_(m.weight, nonlinearity='relu')\n",
    "#                 if m.bias is not None:\n",
    "#                     nn.init.constant_(m.bias, 0)\n",
    "#             elif isinstance(m, nn.LSTM):\n",
    "#                 for name, param in m.named_parameters():\n",
    "#                     if 'weight_ih' in name:\n",
    "#                         nn.init.kaiming_normal_(param.data, nonlinearity='relu')\n",
    "#                     elif 'weight_hh' in name:\n",
    "#                         nn.init.orthogonal_(param.data)\n",
    "#                     elif 'bias' in name:\n",
    "#                         nn.init.constant_(param.data, 0)\n",
    "#             elif isinstance(m, nn.BatchNorm1d):\n",
    "#                 nn.init.constant_(m.weight, 1)\n",
    "#                 nn.init.constant_(m.bias, 0)\n",
    "\n",
    "#     def forward(self, x):\n",
    "#         x, _ = self.lstm1(x)\n",
    "#         x = self.mish(x)\n",
    "#         x, _ = self.lstm2(x)\n",
    "#         x = self.mish(x)\n",
    "#         x = torch.mean(x, dim=1)\n",
    "#         # x = self.batch_norm1(x)  # 處理最後一個時間步[:, -1, :]\n",
    "#         x = self.fc1(x)\n",
    "#         x = self.mish(x)\n",
    "#         x = self.fc2(x)\n",
    "#         x = self.mish(x)\n",
    "#         x = self.fc3(x)\n",
    "#         if self.training:\n",
    "#             x = self.dropout(x)      \n",
    "#         # 分離兩部分輸出\n",
    "#         out_main = self.fc4(x)  # 前 3 個數值\n",
    "#         out_sigmoid = torch.sigmoid(self.fc_sigmoid(x))  # 單獨使用 Sigmoid 激活\n",
    "\n",
    "#         # 合併輸出\n",
    "#         output = torch.cat((out_main, out_sigmoid), dim=1)\n",
    "#         return output"
   ]
  },
  {
   "cell_type": "code",
   "execution_count": 8,
   "metadata": {},
   "outputs": [],
   "source": [
    "# 定義 LSTM 模型 v3 0.6420\n",
    "class LSTM(nn.Module):\n",
    "    def __init__(self, input_size=5, output_size=4):\n",
    "        super(LSTM, self).__init__()\n",
    "        self.lstm1 = nn.LSTM(input_size=input_size, hidden_size=128, batch_first=True, bidirectional=True)  # 輸入大小改為 5\n",
    "        self.mish = nn.Mish()\n",
    "        self.lstm2 = nn.LSTM(input_size=256, hidden_size=128, batch_first=True, bidirectional=True)\n",
    "        self.fc1 = nn.Linear(256, 512)\n",
    "        self.fc2 = nn.Linear(512, 256)\n",
    "        self.fc3 = nn.Linear(256, 128)  # 輸出大小改為 output_size - 1 (前 3 個數值)\n",
    "        self.fc = nn.Linear(128, 32)  # 輸出大小改為 output_size - 1 (前 3 個數值)\n",
    "        self.fc4 = nn.Linear(32, output_size - 1)  # 輸出大小改為 output_size - 1 (前 3 個數值)\n",
    "        self.fc_sigmoid = nn.Linear(32, 1)  # 單獨處理最後一個數值\n",
    "        self.dropout = nn.Dropout(0.5)\n",
    "        self.prelu1 = nn.PReLU()\n",
    "        self.prelu2 = nn.PReLU()\n",
    "        self.prelu3 = nn.PReLU()    \n",
    "\n",
    "        self._initialize_weights()\n",
    "\n",
    "    def _initialize_weights(self):\n",
    "        for m in self.modules():\n",
    "            if isinstance(m, nn.Linear):\n",
    "                nn.init.kaiming_normal_(m.weight, nonlinearity='relu')\n",
    "                if m.bias is not None:\n",
    "                    nn.init.constant_(m.bias, 0)\n",
    "            elif isinstance(m, nn.LSTM):\n",
    "                for name, param in m.named_parameters():\n",
    "                    if 'weight_ih' in name:\n",
    "                        nn.init.kaiming_normal_(param.data, nonlinearity='relu')\n",
    "                    elif 'weight_hh' in name:\n",
    "                        nn.init.orthogonal_(param.data)\n",
    "                    elif 'bias' in name:\n",
    "                        nn.init.constant_(param.data, 0)\n",
    "            elif isinstance(m, nn.BatchNorm1d):\n",
    "                nn.init.constant_(m.weight, 1)\n",
    "                nn.init.constant_(m.bias, 0)\n",
    "\n",
    "    def forward(self, x):\n",
    "        x, _ = self.lstm1(x)\n",
    "        x = self.mish(x)\n",
    "        x, _ = self.lstm2(x)\n",
    "        x = self.mish(x)\n",
    "        y = torch.mean(x, dim=1)\n",
    "        # x = self.batch_norm1(x)  # 處理最後一個時間步[:, -1, :]\n",
    "        x = self.fc1(y)\n",
    "        x = self.prelu1(x)\n",
    "        x = self.fc2(x)\n",
    "        x = self.prelu2(x)\n",
    "        x = self.fc3(x+y)\n",
    "        x = self.prelu3(x)\n",
    "        x = self.fc(x)\n",
    "        if self.training:\n",
    "            x = self.dropout(x)      \n",
    "        # 分離兩部分輸出\n",
    "        out_main = self.fc4(x)  # 前 3 個數值\n",
    "        out_sigmoid = torch.sigmoid(self.fc_sigmoid(x))  # 單獨使用 Sigmoid 激活\n",
    "\n",
    "        # 合併輸出\n",
    "        output = torch.cat((out_main, out_sigmoid), dim=1)\n",
    "        return output"
   ]
  },
  {
   "cell_type": "code",
   "execution_count": 9,
   "metadata": {},
   "outputs": [],
   "source": [
    "class EarlyStopping:\n",
    "    def __init__(self, model_save_path,model_name ,only_save = False, patience=7, verbose=False, delta=0):\n",
    "        \"\"\"\n",
    "        :param patience: 没有改善后等待的轮数\n",
    "        :param verbose: 是否打印消息\n",
    "        :param delta: 显著改善的最小变化\n",
    "        \"\"\"\n",
    "        self.patience = patience\n",
    "        self.verbose = verbose\n",
    "        self.delta = delta\n",
    "        self.best_score = None\n",
    "        self.early_stop = False\n",
    "        self.counter = 0\n",
    "        self.model_save_path = model_save_path\n",
    "        self.only_save = only_save\n",
    "        self.lastloss = 0\n",
    "        self.model_name = model_name\n",
    "\n",
    "    def __call__(self, val_loss, model,epoch):\n",
    "        score = -val_loss\n",
    "        if self.best_score is None:\n",
    "            self.best_score = score\n",
    "            self.save_checkpoint(val_loss, model,epoch)\n",
    "        elif score < self.best_score + self.delta:\n",
    "          if not self.only_save:\n",
    "              self.counter += 1\n",
    "              if self.verbose:\n",
    "                  print(f'EarlyStopping counter: {self.counter} out of {self.patience}')\n",
    "              if self.counter >= self.patience:\n",
    "                  self.early_stop = True\n",
    "        else:\n",
    "            self.best_score = score\n",
    "            self.save_checkpoint(val_loss, model,epoch)\n",
    "            self.counter = 0\n",
    "\n",
    "    def save_checkpoint(self, val_loss, model,epoch):\n",
    "        \"\"\"\n",
    "        保存模型\n",
    "        \"\"\"\n",
    "        if self.verbose:\n",
    "            print(f'Validation loss decreased ({-self.best_score:.8f} --> {self.lastloss:.8f}).  Saving model ...')\n",
    "        torch.save(model.state_dict(), self.model_save_path+\"/\"+ self.model_name +\".pt\")  # 保存模型\n",
    "        self.lastloss = val_loss\n"
   ]
  },
  {
   "cell_type": "code",
   "execution_count": 10,
   "metadata": {},
   "outputs": [],
   "source": [
    "torch.manual_seed(12345)\n",
    "# 建立模型\n",
    "model = LSTM(input_size=5, output_size=4).to(device)\n",
    "\n",
    "loss_mse = nn.MSELoss()\n",
    "loss_bce = nn.BCELoss ()\n",
    "\n",
    "optimizer = torch.optim.Adam(model.parameters(), lr=learning_rate)\n",
    "\n",
    "earlystopping = EarlyStopping(model_path,model_name,only_save, patience, verbose)\n",
    "\n",
    "scheduler = torch.optim.lr_scheduler.ReduceLROnPlateau(optimizer, mode='min', patience=10, factor=0.5)"
   ]
  },
  {
   "cell_type": "code",
   "execution_count": 11,
   "metadata": {},
   "outputs": [],
   "source": [
    "# 添加驗證函數\n",
    "def Validation(model, valid_loader):\n",
    "    model.eval()\n",
    "    val_loss = 0\n",
    "    with torch.no_grad():\n",
    "        for inputs, targets in tqdm(valid_loader, desc=\"Validation Progress\"):\n",
    "            inputs, targets = inputs.to(device), targets.to(device)\n",
    "            outputs = model(inputs)\n",
    "            loss = loss_mse(outputs[:, :-1], targets[:, :-1]) + loss_bce(outputs[:, -1], targets[:, -1])\n",
    "            val_loss += loss.item()\n",
    "    return val_loss / len(valid_loader)\n"
   ]
  },
  {
   "cell_type": "code",
   "execution_count": 12,
   "metadata": {},
   "outputs": [
    {
     "name": "stderr",
     "output_type": "stream",
     "text": [
      "Epoch 1/1000: 100%|██████████| 18/18 [00:04<00:00,  3.82it/s, loss=1.38]\n",
      "Validation Progress: 100%|██████████| 5/5 [00:00<00:00,  8.61it/s]\n"
     ]
    },
    {
     "name": "stdout",
     "output_type": "stream",
     "text": [
      "Epoch 1: Train Loss = 1.5370, Validation Loss = 1.2314\n",
      "lr: 0.0001\n",
      "Validation loss decreased (1.23136407 --> 0.00000000).  Saving model ...\n"
     ]
    },
    {
     "name": "stderr",
     "output_type": "stream",
     "text": [
      "Epoch 2/1000: 100%|██████████| 18/18 [00:00<00:00, 62.77it/s, loss=1.25] \n",
      "Validation Progress: 100%|██████████| 5/5 [00:00<00:00, 291.89it/s]\n"
     ]
    },
    {
     "name": "stdout",
     "output_type": "stream",
     "text": [
      "Epoch 2: Train Loss = 1.2458, Validation Loss = 1.0859\n",
      "lr: 0.0001\n",
      "Validation loss decreased (1.08588614 --> 1.23136407).  Saving model ...\n"
     ]
    },
    {
     "name": "stderr",
     "output_type": "stream",
     "text": [
      "Epoch 3/1000: 100%|██████████| 18/18 [00:00<00:00, 65.13it/s, loss=1.5]  \n",
      "Validation Progress: 100%|██████████| 5/5 [00:00<00:00, 283.44it/s]\n"
     ]
    },
    {
     "name": "stdout",
     "output_type": "stream",
     "text": [
      "Epoch 3: Train Loss = 1.2103, Validation Loss = 1.0233\n",
      "lr: 0.0001\n",
      "Validation loss decreased (1.02330673 --> 1.08588614).  Saving model ...\n"
     ]
    },
    {
     "name": "stderr",
     "output_type": "stream",
     "text": [
      "Epoch 4/1000: 100%|██████████| 18/18 [00:00<00:00, 64.21it/s, loss=0.676]\n",
      "Validation Progress: 100%|██████████| 5/5 [00:00<00:00, 240.89it/s]\n"
     ]
    },
    {
     "name": "stdout",
     "output_type": "stream",
     "text": [
      "Epoch 4: Train Loss = 1.0958, Validation Loss = 0.9571\n",
      "lr: 0.0001\n",
      "Validation loss decreased (0.95706016 --> 1.02330673).  Saving model ...\n"
     ]
    },
    {
     "name": "stderr",
     "output_type": "stream",
     "text": [
      "Epoch 5/1000: 100%|██████████| 18/18 [00:00<00:00, 65.36it/s, loss=1.16] \n",
      "Validation Progress: 100%|██████████| 5/5 [00:00<00:00, 279.94it/s]\n"
     ]
    },
    {
     "name": "stdout",
     "output_type": "stream",
     "text": [
      "Epoch 5: Train Loss = 1.0986, Validation Loss = 0.9269\n",
      "lr: 0.0001\n",
      "Validation loss decreased (0.92685796 --> 0.95706016).  Saving model ...\n"
     ]
    },
    {
     "name": "stderr",
     "output_type": "stream",
     "text": [
      "Epoch 6/1000: 100%|██████████| 18/18 [00:00<00:00, 64.92it/s, loss=2]   \n",
      "Validation Progress: 100%|██████████| 5/5 [00:00<00:00, 279.88it/s]\n"
     ]
    },
    {
     "name": "stdout",
     "output_type": "stream",
     "text": [
      "Epoch 6: Train Loss = 1.0925, Validation Loss = 0.8944\n",
      "lr: 0.0001\n",
      "Validation loss decreased (0.89438656 --> 0.92685796).  Saving model ...\n"
     ]
    },
    {
     "name": "stderr",
     "output_type": "stream",
     "text": [
      "Epoch 7/1000: 100%|██████████| 18/18 [00:00<00:00, 64.87it/s, loss=1.19] \n",
      "Validation Progress: 100%|██████████| 5/5 [00:00<00:00, 284.85it/s]\n"
     ]
    },
    {
     "name": "stdout",
     "output_type": "stream",
     "text": [
      "Epoch 7: Train Loss = 1.0640, Validation Loss = 0.8761\n",
      "lr: 0.0001\n",
      "Validation loss decreased (0.87614818 --> 0.89438656).  Saving model ...\n"
     ]
    },
    {
     "name": "stderr",
     "output_type": "stream",
     "text": [
      "Epoch 8/1000: 100%|██████████| 18/18 [00:00<00:00, 65.64it/s, loss=0.722]\n",
      "Validation Progress: 100%|██████████| 5/5 [00:00<00:00, 276.92it/s]\n"
     ]
    },
    {
     "name": "stdout",
     "output_type": "stream",
     "text": [
      "Epoch 8: Train Loss = 0.9821, Validation Loss = 0.8434\n",
      "lr: 0.0001\n",
      "Validation loss decreased (0.84344781 --> 0.87614818).  Saving model ...\n"
     ]
    },
    {
     "name": "stderr",
     "output_type": "stream",
     "text": [
      "Epoch 9/1000: 100%|██████████| 18/18 [00:00<00:00, 65.70it/s, loss=0.995]\n",
      "Validation Progress: 100%|██████████| 5/5 [00:00<00:00, 285.81it/s]\n"
     ]
    },
    {
     "name": "stdout",
     "output_type": "stream",
     "text": [
      "Epoch 9: Train Loss = 0.9998, Validation Loss = 0.8287\n",
      "lr: 0.0001\n",
      "Validation loss decreased (0.82871771 --> 0.84344781).  Saving model ...\n"
     ]
    },
    {
     "name": "stderr",
     "output_type": "stream",
     "text": [
      "Epoch 10/1000: 100%|██████████| 18/18 [00:00<00:00, 63.93it/s, loss=0.567]\n",
      "Validation Progress: 100%|██████████| 5/5 [00:00<00:00, 292.13it/s]\n"
     ]
    },
    {
     "name": "stdout",
     "output_type": "stream",
     "text": [
      "Epoch 10: Train Loss = 0.9674, Validation Loss = 0.8297\n",
      "lr: 0.0001\n",
      "EarlyStopping counter: 1 out of 50\n"
     ]
    },
    {
     "name": "stderr",
     "output_type": "stream",
     "text": [
      "Epoch 11/1000: 100%|██████████| 18/18 [00:00<00:00, 65.61it/s, loss=1.25] \n",
      "Validation Progress: 100%|██████████| 5/5 [00:00<00:00, 282.46it/s]\n"
     ]
    },
    {
     "name": "stdout",
     "output_type": "stream",
     "text": [
      "Epoch 11: Train Loss = 0.9985, Validation Loss = 0.8208\n",
      "lr: 0.0001\n",
      "Validation loss decreased (0.82080251 --> 0.82871771).  Saving model ...\n"
     ]
    },
    {
     "name": "stderr",
     "output_type": "stream",
     "text": [
      "Epoch 12/1000: 100%|██████████| 18/18 [00:00<00:00, 64.83it/s, loss=0.817]\n",
      "Validation Progress: 100%|██████████| 5/5 [00:00<00:00, 293.74it/s]\n"
     ]
    },
    {
     "name": "stdout",
     "output_type": "stream",
     "text": [
      "Epoch 12: Train Loss = 0.9762, Validation Loss = 0.7929\n",
      "lr: 0.0001\n",
      "Validation loss decreased (0.79293025 --> 0.82080251).  Saving model ...\n"
     ]
    },
    {
     "name": "stderr",
     "output_type": "stream",
     "text": [
      "Epoch 13/1000: 100%|██████████| 18/18 [00:00<00:00, 63.04it/s, loss=1.74] \n",
      "Validation Progress: 100%|██████████| 5/5 [00:00<00:00, 295.94it/s]\n"
     ]
    },
    {
     "name": "stdout",
     "output_type": "stream",
     "text": [
      "Epoch 13: Train Loss = 0.9837, Validation Loss = 0.8098\n",
      "lr: 0.0001\n",
      "EarlyStopping counter: 1 out of 50\n"
     ]
    },
    {
     "name": "stderr",
     "output_type": "stream",
     "text": [
      "Epoch 14/1000: 100%|██████████| 18/18 [00:00<00:00, 64.22it/s, loss=0.884]\n",
      "Validation Progress: 100%|██████████| 5/5 [00:00<00:00, 286.35it/s]\n"
     ]
    },
    {
     "name": "stdout",
     "output_type": "stream",
     "text": [
      "Epoch 14: Train Loss = 0.9639, Validation Loss = 0.8023\n",
      "lr: 0.0001\n",
      "EarlyStopping counter: 2 out of 50\n"
     ]
    },
    {
     "name": "stderr",
     "output_type": "stream",
     "text": [
      "Epoch 15/1000: 100%|██████████| 18/18 [00:00<00:00, 63.27it/s, loss=0.741]\n",
      "Validation Progress: 100%|██████████| 5/5 [00:00<00:00, 292.07it/s]\n"
     ]
    },
    {
     "name": "stdout",
     "output_type": "stream",
     "text": [
      "Epoch 15: Train Loss = 0.9430, Validation Loss = 0.7735\n",
      "lr: 0.0001\n",
      "Validation loss decreased (0.77352415 --> 0.79293025).  Saving model ...\n"
     ]
    },
    {
     "name": "stderr",
     "output_type": "stream",
     "text": [
      "Epoch 16/1000: 100%|██████████| 18/18 [00:00<00:00, 64.30it/s, loss=0.609]\n",
      "Validation Progress: 100%|██████████| 5/5 [00:00<00:00, 287.70it/s]\n"
     ]
    },
    {
     "name": "stdout",
     "output_type": "stream",
     "text": [
      "Epoch 16: Train Loss = 0.9683, Validation Loss = 0.7917\n",
      "lr: 0.0001\n",
      "EarlyStopping counter: 1 out of 50\n"
     ]
    },
    {
     "name": "stderr",
     "output_type": "stream",
     "text": [
      "Epoch 17/1000: 100%|██████████| 18/18 [00:00<00:00, 64.74it/s, loss=0.785]\n",
      "Validation Progress: 100%|██████████| 5/5 [00:00<00:00, 287.83it/s]\n"
     ]
    },
    {
     "name": "stdout",
     "output_type": "stream",
     "text": [
      "Epoch 17: Train Loss = 0.9540, Validation Loss = 0.7799\n",
      "lr: 0.0001\n",
      "EarlyStopping counter: 2 out of 50\n"
     ]
    },
    {
     "name": "stderr",
     "output_type": "stream",
     "text": [
      "Epoch 18/1000: 100%|██████████| 18/18 [00:00<00:00, 64.75it/s, loss=2.4]  \n",
      "Validation Progress: 100%|██████████| 5/5 [00:00<00:00, 291.29it/s]\n"
     ]
    },
    {
     "name": "stdout",
     "output_type": "stream",
     "text": [
      "Epoch 18: Train Loss = 0.9756, Validation Loss = 0.7743\n",
      "lr: 0.0001\n",
      "EarlyStopping counter: 3 out of 50\n"
     ]
    },
    {
     "name": "stderr",
     "output_type": "stream",
     "text": [
      "Epoch 19/1000: 100%|██████████| 18/18 [00:00<00:00, 64.65it/s, loss=0.77] \n",
      "Validation Progress: 100%|██████████| 5/5 [00:00<00:00, 283.72it/s]\n"
     ]
    },
    {
     "name": "stdout",
     "output_type": "stream",
     "text": [
      "Epoch 19: Train Loss = 0.9279, Validation Loss = 0.7529\n",
      "lr: 0.0001\n",
      "Validation loss decreased (0.75290985 --> 0.77352415).  Saving model ...\n"
     ]
    },
    {
     "name": "stderr",
     "output_type": "stream",
     "text": [
      "Epoch 20/1000: 100%|██████████| 18/18 [00:00<00:00, 64.20it/s, loss=0.581]\n",
      "Validation Progress: 100%|██████████| 5/5 [00:00<00:00, 250.78it/s]\n"
     ]
    },
    {
     "name": "stdout",
     "output_type": "stream",
     "text": [
      "Epoch 20: Train Loss = 0.8908, Validation Loss = 0.7553\n",
      "lr: 0.0001\n",
      "EarlyStopping counter: 1 out of 50\n"
     ]
    },
    {
     "name": "stderr",
     "output_type": "stream",
     "text": [
      "Epoch 21/1000: 100%|██████████| 18/18 [00:00<00:00, 64.50it/s, loss=0.596]\n",
      "Validation Progress: 100%|██████████| 5/5 [00:00<00:00, 291.65it/s]\n"
     ]
    },
    {
     "name": "stdout",
     "output_type": "stream",
     "text": [
      "Epoch 21: Train Loss = 0.9218, Validation Loss = 0.7760\n",
      "lr: 0.0001\n",
      "EarlyStopping counter: 2 out of 50\n"
     ]
    },
    {
     "name": "stderr",
     "output_type": "stream",
     "text": [
      "Epoch 22/1000: 100%|██████████| 18/18 [00:00<00:00, 65.89it/s, loss=0.953]\n",
      "Validation Progress: 100%|██████████| 5/5 [00:00<00:00, 296.72it/s]\n"
     ]
    },
    {
     "name": "stdout",
     "output_type": "stream",
     "text": [
      "Epoch 22: Train Loss = 0.9210, Validation Loss = 0.7331\n",
      "lr: 0.0001\n",
      "Validation loss decreased (0.73313733 --> 0.75290985).  Saving model ...\n"
     ]
    },
    {
     "name": "stderr",
     "output_type": "stream",
     "text": [
      "Epoch 23/1000: 100%|██████████| 18/18 [00:00<00:00, 64.96it/s, loss=0.749]\n",
      "Validation Progress: 100%|██████████| 5/5 [00:00<00:00, 291.61it/s]\n"
     ]
    },
    {
     "name": "stdout",
     "output_type": "stream",
     "text": [
      "Epoch 23: Train Loss = 0.8764, Validation Loss = 0.7646\n",
      "lr: 0.0001\n",
      "EarlyStopping counter: 1 out of 50\n"
     ]
    },
    {
     "name": "stderr",
     "output_type": "stream",
     "text": [
      "Epoch 24/1000: 100%|██████████| 18/18 [00:00<00:00, 65.21it/s, loss=0.815]\n",
      "Validation Progress: 100%|██████████| 5/5 [00:00<00:00, 284.41it/s]\n"
     ]
    },
    {
     "name": "stdout",
     "output_type": "stream",
     "text": [
      "Epoch 24: Train Loss = 0.9024, Validation Loss = 0.7266\n",
      "lr: 0.0001\n",
      "Validation loss decreased (0.72657548 --> 0.73313733).  Saving model ...\n"
     ]
    },
    {
     "name": "stderr",
     "output_type": "stream",
     "text": [
      "Epoch 25/1000: 100%|██████████| 18/18 [00:00<00:00, 64.80it/s, loss=0.813]\n",
      "Validation Progress: 100%|██████████| 5/5 [00:00<00:00, 281.25it/s]\n"
     ]
    },
    {
     "name": "stdout",
     "output_type": "stream",
     "text": [
      "Epoch 25: Train Loss = 0.8684, Validation Loss = 0.7353\n",
      "lr: 0.0001\n",
      "EarlyStopping counter: 1 out of 50\n"
     ]
    },
    {
     "name": "stderr",
     "output_type": "stream",
     "text": [
      "Epoch 26/1000: 100%|██████████| 18/18 [00:00<00:00, 64.82it/s, loss=1.22] \n",
      "Validation Progress: 100%|██████████| 5/5 [00:00<00:00, 283.85it/s]\n"
     ]
    },
    {
     "name": "stdout",
     "output_type": "stream",
     "text": [
      "Epoch 26: Train Loss = 0.9045, Validation Loss = 0.7338\n",
      "lr: 0.0001\n",
      "EarlyStopping counter: 2 out of 50\n"
     ]
    },
    {
     "name": "stderr",
     "output_type": "stream",
     "text": [
      "Epoch 27/1000: 100%|██████████| 18/18 [00:00<00:00, 64.68it/s, loss=0.693]\n",
      "Validation Progress: 100%|██████████| 5/5 [00:00<00:00, 283.56it/s]\n"
     ]
    },
    {
     "name": "stdout",
     "output_type": "stream",
     "text": [
      "Epoch 27: Train Loss = 0.8766, Validation Loss = 0.7255\n",
      "lr: 0.0001\n",
      "Validation loss decreased (0.72554307 --> 0.72657548).  Saving model ...\n"
     ]
    },
    {
     "name": "stderr",
     "output_type": "stream",
     "text": [
      "Epoch 28/1000: 100%|██████████| 18/18 [00:00<00:00, 63.33it/s, loss=0.481]\n",
      "Validation Progress: 100%|██████████| 5/5 [00:00<00:00, 292.38it/s]\n"
     ]
    },
    {
     "name": "stdout",
     "output_type": "stream",
     "text": [
      "Epoch 28: Train Loss = 0.8449, Validation Loss = 0.7037\n",
      "lr: 0.0001\n",
      "Validation loss decreased (0.70367036 --> 0.72554307).  Saving model ...\n"
     ]
    },
    {
     "name": "stderr",
     "output_type": "stream",
     "text": [
      "Epoch 29/1000: 100%|██████████| 18/18 [00:00<00:00, 63.85it/s, loss=1.16] \n",
      "Validation Progress: 100%|██████████| 5/5 [00:00<00:00, 288.73it/s]\n"
     ]
    },
    {
     "name": "stdout",
     "output_type": "stream",
     "text": [
      "Epoch 29: Train Loss = 0.8789, Validation Loss = 0.7299\n",
      "lr: 0.0001\n",
      "EarlyStopping counter: 1 out of 50\n"
     ]
    },
    {
     "name": "stderr",
     "output_type": "stream",
     "text": [
      "Epoch 30/1000: 100%|██████████| 18/18 [00:00<00:00, 64.53it/s, loss=1.55] \n",
      "Validation Progress: 100%|██████████| 5/5 [00:00<00:00, 295.46it/s]\n"
     ]
    },
    {
     "name": "stdout",
     "output_type": "stream",
     "text": [
      "Epoch 30: Train Loss = 0.8911, Validation Loss = 0.6940\n",
      "lr: 0.0001\n",
      "Validation loss decreased (0.69396379 --> 0.70367036).  Saving model ...\n"
     ]
    },
    {
     "name": "stderr",
     "output_type": "stream",
     "text": [
      "Epoch 31/1000: 100%|██████████| 18/18 [00:00<00:00, 63.34it/s, loss=1.32] \n",
      "Validation Progress: 100%|██████████| 5/5 [00:00<00:00, 290.43it/s]\n"
     ]
    },
    {
     "name": "stdout",
     "output_type": "stream",
     "text": [
      "Epoch 31: Train Loss = 0.9064, Validation Loss = 0.7156\n",
      "lr: 0.0001\n",
      "EarlyStopping counter: 1 out of 50\n"
     ]
    },
    {
     "name": "stderr",
     "output_type": "stream",
     "text": [
      "Epoch 32/1000: 100%|██████████| 18/18 [00:00<00:00, 64.93it/s, loss=0.637]\n",
      "Validation Progress: 100%|██████████| 5/5 [00:00<00:00, 290.06it/s]\n"
     ]
    },
    {
     "name": "stdout",
     "output_type": "stream",
     "text": [
      "Epoch 32: Train Loss = 0.8416, Validation Loss = 0.6931\n",
      "lr: 0.0001\n",
      "Validation loss decreased (0.69311027 --> 0.69396379).  Saving model ...\n"
     ]
    },
    {
     "name": "stderr",
     "output_type": "stream",
     "text": [
      "Epoch 33/1000: 100%|██████████| 18/18 [00:00<00:00, 64.26it/s, loss=0.909]\n",
      "Validation Progress: 100%|██████████| 5/5 [00:00<00:00, 286.48it/s]\n"
     ]
    },
    {
     "name": "stdout",
     "output_type": "stream",
     "text": [
      "Epoch 33: Train Loss = 0.8584, Validation Loss = 0.6985\n",
      "lr: 0.0001\n",
      "EarlyStopping counter: 1 out of 50\n"
     ]
    },
    {
     "name": "stderr",
     "output_type": "stream",
     "text": [
      "Epoch 34/1000: 100%|██████████| 18/18 [00:00<00:00, 65.02it/s, loss=1.16] \n",
      "Validation Progress: 100%|██████████| 5/5 [00:00<00:00, 293.58it/s]\n"
     ]
    },
    {
     "name": "stdout",
     "output_type": "stream",
     "text": [
      "Epoch 34: Train Loss = 0.8941, Validation Loss = 0.7069\n",
      "lr: 0.0001\n",
      "EarlyStopping counter: 2 out of 50\n"
     ]
    },
    {
     "name": "stderr",
     "output_type": "stream",
     "text": [
      "Epoch 35/1000: 100%|██████████| 18/18 [00:00<00:00, 64.62it/s, loss=1.25] \n",
      "Validation Progress: 100%|██████████| 5/5 [00:00<00:00, 288.17it/s]\n"
     ]
    },
    {
     "name": "stdout",
     "output_type": "stream",
     "text": [
      "Epoch 35: Train Loss = 0.8418, Validation Loss = 0.6807\n",
      "lr: 0.0001\n",
      "Validation loss decreased (0.68069857 --> 0.69311027).  Saving model ...\n"
     ]
    },
    {
     "name": "stderr",
     "output_type": "stream",
     "text": [
      "Epoch 36/1000: 100%|██████████| 18/18 [00:00<00:00, 64.01it/s, loss=0.684]\n",
      "Validation Progress: 100%|██████████| 5/5 [00:00<00:00, 289.11it/s]\n"
     ]
    },
    {
     "name": "stdout",
     "output_type": "stream",
     "text": [
      "Epoch 36: Train Loss = 0.8268, Validation Loss = 0.6855\n",
      "lr: 0.0001\n",
      "EarlyStopping counter: 1 out of 50\n"
     ]
    },
    {
     "name": "stderr",
     "output_type": "stream",
     "text": [
      "Epoch 37/1000: 100%|██████████| 18/18 [00:00<00:00, 63.54it/s, loss=0.773]\n",
      "Validation Progress: 100%|██████████| 5/5 [00:00<00:00, 287.55it/s]\n"
     ]
    },
    {
     "name": "stdout",
     "output_type": "stream",
     "text": [
      "Epoch 37: Train Loss = 0.8464, Validation Loss = 0.6831\n",
      "lr: 0.0001\n",
      "EarlyStopping counter: 2 out of 50\n"
     ]
    },
    {
     "name": "stderr",
     "output_type": "stream",
     "text": [
      "Epoch 38/1000: 100%|██████████| 18/18 [00:00<00:00, 64.65it/s, loss=0.474]\n",
      "Validation Progress: 100%|██████████| 5/5 [00:00<00:00, 280.03it/s]\n"
     ]
    },
    {
     "name": "stdout",
     "output_type": "stream",
     "text": [
      "Epoch 38: Train Loss = 0.8148, Validation Loss = 0.6684\n",
      "lr: 0.0001\n",
      "Validation loss decreased (0.66842933 --> 0.68069857).  Saving model ...\n"
     ]
    },
    {
     "name": "stderr",
     "output_type": "stream",
     "text": [
      "Epoch 39/1000: 100%|██████████| 18/18 [00:00<00:00, 64.66it/s, loss=0.715]\n",
      "Validation Progress: 100%|██████████| 5/5 [00:00<00:00, 282.59it/s]\n"
     ]
    },
    {
     "name": "stdout",
     "output_type": "stream",
     "text": [
      "Epoch 39: Train Loss = 0.8363, Validation Loss = 0.6729\n",
      "lr: 0.0001\n",
      "EarlyStopping counter: 1 out of 50\n"
     ]
    },
    {
     "name": "stderr",
     "output_type": "stream",
     "text": [
      "Epoch 40/1000: 100%|██████████| 18/18 [00:00<00:00, 65.09it/s, loss=1.84] \n",
      "Validation Progress: 100%|██████████| 5/5 [00:00<00:00, 286.09it/s]\n"
     ]
    },
    {
     "name": "stdout",
     "output_type": "stream",
     "text": [
      "Epoch 40: Train Loss = 0.8592, Validation Loss = 0.6879\n",
      "lr: 0.0001\n",
      "EarlyStopping counter: 2 out of 50\n"
     ]
    },
    {
     "name": "stderr",
     "output_type": "stream",
     "text": [
      "Epoch 41/1000: 100%|██████████| 18/18 [00:00<00:00, 65.40it/s, loss=0.567]\n",
      "Validation Progress: 100%|██████████| 5/5 [00:00<00:00, 277.73it/s]\n"
     ]
    },
    {
     "name": "stdout",
     "output_type": "stream",
     "text": [
      "Epoch 41: Train Loss = 0.7964, Validation Loss = 0.6543\n",
      "lr: 0.0001\n",
      "Validation loss decreased (0.65433437 --> 0.66842933).  Saving model ...\n"
     ]
    },
    {
     "name": "stderr",
     "output_type": "stream",
     "text": [
      "Epoch 42/1000: 100%|██████████| 18/18 [00:00<00:00, 63.89it/s, loss=0.532]\n",
      "Validation Progress: 100%|██████████| 5/5 [00:00<00:00, 293.50it/s]\n"
     ]
    },
    {
     "name": "stdout",
     "output_type": "stream",
     "text": [
      "Epoch 42: Train Loss = 0.8075, Validation Loss = 0.6488\n",
      "lr: 0.0001\n",
      "Validation loss decreased (0.64877432 --> 0.65433437).  Saving model ...\n"
     ]
    },
    {
     "name": "stderr",
     "output_type": "stream",
     "text": [
      "Epoch 43/1000: 100%|██████████| 18/18 [00:00<00:00, 64.08it/s, loss=0.699]\n",
      "Validation Progress: 100%|██████████| 5/5 [00:00<00:00, 289.52it/s]\n"
     ]
    },
    {
     "name": "stdout",
     "output_type": "stream",
     "text": [
      "Epoch 43: Train Loss = 0.8138, Validation Loss = 0.6403\n",
      "lr: 0.0001\n",
      "Validation loss decreased (0.64029535 --> 0.64877432).  Saving model ...\n"
     ]
    },
    {
     "name": "stderr",
     "output_type": "stream",
     "text": [
      "Epoch 44/1000: 100%|██████████| 18/18 [00:00<00:00, 65.02it/s, loss=0.809]\n",
      "Validation Progress: 100%|██████████| 5/5 [00:00<00:00, 285.04it/s]\n"
     ]
    },
    {
     "name": "stdout",
     "output_type": "stream",
     "text": [
      "Epoch 44: Train Loss = 0.8051, Validation Loss = 0.6492\n",
      "lr: 0.0001\n",
      "EarlyStopping counter: 1 out of 50\n"
     ]
    },
    {
     "name": "stderr",
     "output_type": "stream",
     "text": [
      "Epoch 45/1000: 100%|██████████| 18/18 [00:00<00:00, 65.41it/s, loss=0.582]\n",
      "Validation Progress: 100%|██████████| 5/5 [00:00<00:00, 286.37it/s]\n"
     ]
    },
    {
     "name": "stdout",
     "output_type": "stream",
     "text": [
      "Epoch 45: Train Loss = 0.7939, Validation Loss = 0.6349\n",
      "lr: 0.0001\n",
      "Validation loss decreased (0.63493016 --> 0.64029535).  Saving model ...\n"
     ]
    },
    {
     "name": "stderr",
     "output_type": "stream",
     "text": [
      "Epoch 46/1000: 100%|██████████| 18/18 [00:00<00:00, 65.16it/s, loss=0.88] \n",
      "Validation Progress: 100%|██████████| 5/5 [00:00<00:00, 289.67it/s]\n"
     ]
    },
    {
     "name": "stdout",
     "output_type": "stream",
     "text": [
      "Epoch 46: Train Loss = 0.7947, Validation Loss = 0.6418\n",
      "lr: 0.0001\n",
      "EarlyStopping counter: 1 out of 50\n"
     ]
    },
    {
     "name": "stderr",
     "output_type": "stream",
     "text": [
      "Epoch 47/1000: 100%|██████████| 18/18 [00:00<00:00, 64.03it/s, loss=0.81] \n",
      "Validation Progress: 100%|██████████| 5/5 [00:00<00:00, 289.55it/s]\n"
     ]
    },
    {
     "name": "stdout",
     "output_type": "stream",
     "text": [
      "Epoch 47: Train Loss = 0.8226, Validation Loss = 0.6669\n",
      "lr: 0.0001\n",
      "EarlyStopping counter: 2 out of 50\n"
     ]
    },
    {
     "name": "stderr",
     "output_type": "stream",
     "text": [
      "Epoch 48/1000: 100%|██████████| 18/18 [00:00<00:00, 64.04it/s, loss=0.813]\n",
      "Validation Progress: 100%|██████████| 5/5 [00:00<00:00, 289.05it/s]\n"
     ]
    },
    {
     "name": "stdout",
     "output_type": "stream",
     "text": [
      "Epoch 48: Train Loss = 0.7770, Validation Loss = 0.6376\n",
      "lr: 0.0001\n",
      "EarlyStopping counter: 3 out of 50\n"
     ]
    },
    {
     "name": "stderr",
     "output_type": "stream",
     "text": [
      "Epoch 49/1000: 100%|██████████| 18/18 [00:00<00:00, 66.17it/s, loss=0.663]\n",
      "Validation Progress: 100%|██████████| 5/5 [00:00<00:00, 290.19it/s]\n"
     ]
    },
    {
     "name": "stdout",
     "output_type": "stream",
     "text": [
      "Epoch 49: Train Loss = 0.7622, Validation Loss = 0.6255\n",
      "lr: 0.0001\n",
      "Validation loss decreased (0.62553453 --> 0.63493016).  Saving model ...\n"
     ]
    },
    {
     "name": "stderr",
     "output_type": "stream",
     "text": [
      "Epoch 50/1000: 100%|██████████| 18/18 [00:00<00:00, 65.56it/s, loss=0.679]\n",
      "Validation Progress: 100%|██████████| 5/5 [00:00<00:00, 285.53it/s]\n"
     ]
    },
    {
     "name": "stdout",
     "output_type": "stream",
     "text": [
      "Epoch 50: Train Loss = 0.7936, Validation Loss = 0.6332\n",
      "lr: 0.0001\n",
      "EarlyStopping counter: 1 out of 50\n"
     ]
    },
    {
     "name": "stderr",
     "output_type": "stream",
     "text": [
      "Epoch 51/1000: 100%|██████████| 18/18 [00:00<00:00, 65.71it/s, loss=0.533]\n",
      "Validation Progress: 100%|██████████| 5/5 [00:00<00:00, 283.53it/s]\n"
     ]
    },
    {
     "name": "stdout",
     "output_type": "stream",
     "text": [
      "Epoch 51: Train Loss = 0.7729, Validation Loss = 0.6733\n",
      "lr: 0.0001\n",
      "EarlyStopping counter: 2 out of 50\n"
     ]
    },
    {
     "name": "stderr",
     "output_type": "stream",
     "text": [
      "Epoch 52/1000: 100%|██████████| 18/18 [00:00<00:00, 64.84it/s, loss=0.681]\n",
      "Validation Progress: 100%|██████████| 5/5 [00:00<00:00, 289.32it/s]\n"
     ]
    },
    {
     "name": "stdout",
     "output_type": "stream",
     "text": [
      "Epoch 52: Train Loss = 0.7873, Validation Loss = 0.6449\n",
      "lr: 0.0001\n",
      "EarlyStopping counter: 3 out of 50\n"
     ]
    },
    {
     "name": "stderr",
     "output_type": "stream",
     "text": [
      "Epoch 53/1000: 100%|██████████| 18/18 [00:00<00:00, 65.37it/s, loss=0.734]\n",
      "Validation Progress: 100%|██████████| 5/5 [00:00<00:00, 285.50it/s]\n"
     ]
    },
    {
     "name": "stdout",
     "output_type": "stream",
     "text": [
      "Epoch 53: Train Loss = 0.7740, Validation Loss = 0.6480\n",
      "lr: 0.0001\n",
      "EarlyStopping counter: 4 out of 50\n"
     ]
    },
    {
     "name": "stderr",
     "output_type": "stream",
     "text": [
      "Epoch 54/1000: 100%|██████████| 18/18 [00:00<00:00, 65.92it/s, loss=1.06] \n",
      "Validation Progress: 100%|██████████| 5/5 [00:00<00:00, 285.68it/s]\n"
     ]
    },
    {
     "name": "stdout",
     "output_type": "stream",
     "text": [
      "Epoch 54: Train Loss = 0.7785, Validation Loss = 0.6371\n",
      "lr: 0.0001\n",
      "EarlyStopping counter: 5 out of 50\n"
     ]
    },
    {
     "name": "stderr",
     "output_type": "stream",
     "text": [
      "Epoch 55/1000: 100%|██████████| 18/18 [00:00<00:00, 64.61it/s, loss=1.54] \n",
      "Validation Progress: 100%|██████████| 5/5 [00:00<00:00, 295.58it/s]\n"
     ]
    },
    {
     "name": "stdout",
     "output_type": "stream",
     "text": [
      "Epoch 55: Train Loss = 0.7875, Validation Loss = 0.6345\n",
      "lr: 0.0001\n",
      "EarlyStopping counter: 6 out of 50\n"
     ]
    },
    {
     "name": "stderr",
     "output_type": "stream",
     "text": [
      "Epoch 56/1000: 100%|██████████| 18/18 [00:00<00:00, 66.33it/s, loss=0.971]\n",
      "Validation Progress: 100%|██████████| 5/5 [00:00<00:00, 292.01it/s]\n"
     ]
    },
    {
     "name": "stdout",
     "output_type": "stream",
     "text": [
      "Epoch 56: Train Loss = 0.7778, Validation Loss = 0.6488\n",
      "lr: 0.0001\n",
      "EarlyStopping counter: 7 out of 50\n"
     ]
    },
    {
     "name": "stderr",
     "output_type": "stream",
     "text": [
      "Epoch 57/1000: 100%|██████████| 18/18 [00:00<00:00, 65.58it/s, loss=0.574]\n",
      "Validation Progress: 100%|██████████| 5/5 [00:00<00:00, 289.82it/s]\n"
     ]
    },
    {
     "name": "stdout",
     "output_type": "stream",
     "text": [
      "Epoch 57: Train Loss = 0.7750, Validation Loss = 0.6605\n",
      "lr: 0.0001\n",
      "EarlyStopping counter: 8 out of 50\n"
     ]
    },
    {
     "name": "stderr",
     "output_type": "stream",
     "text": [
      "Epoch 58/1000: 100%|██████████| 18/18 [00:00<00:00, 63.87it/s, loss=0.314]\n",
      "Validation Progress: 100%|██████████| 5/5 [00:00<00:00, 286.60it/s]\n"
     ]
    },
    {
     "name": "stdout",
     "output_type": "stream",
     "text": [
      "Epoch 58: Train Loss = 0.7284, Validation Loss = 0.6270\n",
      "lr: 0.0001\n",
      "EarlyStopping counter: 9 out of 50\n"
     ]
    },
    {
     "name": "stderr",
     "output_type": "stream",
     "text": [
      "Epoch 59/1000: 100%|██████████| 18/18 [00:00<00:00, 65.21it/s, loss=0.652]\n",
      "Validation Progress: 100%|██████████| 5/5 [00:00<00:00, 278.12it/s]\n"
     ]
    },
    {
     "name": "stdout",
     "output_type": "stream",
     "text": [
      "Epoch 59: Train Loss = 0.7406, Validation Loss = 0.6445\n",
      "lr: 0.0001\n",
      "EarlyStopping counter: 10 out of 50\n"
     ]
    },
    {
     "name": "stderr",
     "output_type": "stream",
     "text": [
      "Epoch 60/1000: 100%|██████████| 18/18 [00:00<00:00, 65.45it/s, loss=0.767]\n",
      "Validation Progress: 100%|██████████| 5/5 [00:00<00:00, 286.40it/s]\n"
     ]
    },
    {
     "name": "stdout",
     "output_type": "stream",
     "text": [
      "Epoch 60: Train Loss = 0.7315, Validation Loss = 0.6167\n",
      "lr: 0.0001\n",
      "Validation loss decreased (0.61673340 --> 0.62553453).  Saving model ...\n"
     ]
    },
    {
     "name": "stderr",
     "output_type": "stream",
     "text": [
      "Epoch 61/1000: 100%|██████████| 18/18 [00:00<00:00, 65.37it/s, loss=0.56] \n",
      "Validation Progress: 100%|██████████| 5/5 [00:00<00:00, 286.58it/s]\n"
     ]
    },
    {
     "name": "stdout",
     "output_type": "stream",
     "text": [
      "Epoch 61: Train Loss = 0.7574, Validation Loss = 0.7055\n",
      "lr: 0.0001\n",
      "EarlyStopping counter: 1 out of 50\n"
     ]
    },
    {
     "name": "stderr",
     "output_type": "stream",
     "text": [
      "Epoch 62/1000: 100%|██████████| 18/18 [00:00<00:00, 65.51it/s, loss=0.664]\n",
      "Validation Progress: 100%|██████████| 5/5 [00:00<00:00, 283.27it/s]\n"
     ]
    },
    {
     "name": "stdout",
     "output_type": "stream",
     "text": [
      "Epoch 62: Train Loss = 0.7517, Validation Loss = 0.6341\n",
      "lr: 0.0001\n",
      "EarlyStopping counter: 2 out of 50\n"
     ]
    },
    {
     "name": "stderr",
     "output_type": "stream",
     "text": [
      "Epoch 63/1000: 100%|██████████| 18/18 [00:00<00:00, 65.62it/s, loss=1]    \n",
      "Validation Progress: 100%|██████████| 5/5 [00:00<00:00, 291.17it/s]\n"
     ]
    },
    {
     "name": "stdout",
     "output_type": "stream",
     "text": [
      "Epoch 63: Train Loss = 0.7405, Validation Loss = 0.6434\n",
      "lr: 0.0001\n",
      "EarlyStopping counter: 3 out of 50\n"
     ]
    },
    {
     "name": "stderr",
     "output_type": "stream",
     "text": [
      "Epoch 64/1000: 100%|██████████| 18/18 [00:00<00:00, 64.61it/s, loss=1.17] \n",
      "Validation Progress: 100%|██████████| 5/5 [00:00<00:00, 283.77it/s]\n"
     ]
    },
    {
     "name": "stdout",
     "output_type": "stream",
     "text": [
      "Epoch 64: Train Loss = 0.7272, Validation Loss = 0.6219\n",
      "lr: 0.0001\n",
      "EarlyStopping counter: 4 out of 50\n"
     ]
    },
    {
     "name": "stderr",
     "output_type": "stream",
     "text": [
      "Epoch 65/1000: 100%|██████████| 18/18 [00:00<00:00, 66.24it/s, loss=1.37] \n",
      "Validation Progress: 100%|██████████| 5/5 [00:00<00:00, 282.69it/s]\n"
     ]
    },
    {
     "name": "stdout",
     "output_type": "stream",
     "text": [
      "Epoch 65: Train Loss = 0.7035, Validation Loss = 0.6512\n",
      "lr: 0.0001\n",
      "EarlyStopping counter: 5 out of 50\n"
     ]
    },
    {
     "name": "stderr",
     "output_type": "stream",
     "text": [
      "Epoch 66/1000: 100%|██████████| 18/18 [00:00<00:00, 65.54it/s, loss=1.03] \n",
      "Validation Progress: 100%|██████████| 5/5 [00:00<00:00, 296.08it/s]\n"
     ]
    },
    {
     "name": "stdout",
     "output_type": "stream",
     "text": [
      "Epoch 66: Train Loss = 0.7268, Validation Loss = 0.6233\n",
      "lr: 0.0001\n",
      "EarlyStopping counter: 6 out of 50\n"
     ]
    },
    {
     "name": "stderr",
     "output_type": "stream",
     "text": [
      "Epoch 67/1000: 100%|██████████| 18/18 [00:00<00:00, 65.93it/s, loss=1.08] \n",
      "Validation Progress: 100%|██████████| 5/5 [00:00<00:00, 290.24it/s]\n"
     ]
    },
    {
     "name": "stdout",
     "output_type": "stream",
     "text": [
      "Epoch 67: Train Loss = 0.7457, Validation Loss = 0.6618\n",
      "lr: 0.0001\n",
      "EarlyStopping counter: 7 out of 50\n"
     ]
    },
    {
     "name": "stderr",
     "output_type": "stream",
     "text": [
      "Epoch 68/1000: 100%|██████████| 18/18 [00:00<00:00, 64.29it/s, loss=0.442]\n",
      "Validation Progress: 100%|██████████| 5/5 [00:00<00:00, 283.41it/s]\n"
     ]
    },
    {
     "name": "stdout",
     "output_type": "stream",
     "text": [
      "Epoch 68: Train Loss = 0.6966, Validation Loss = 0.6208\n",
      "lr: 0.0001\n",
      "EarlyStopping counter: 8 out of 50\n"
     ]
    },
    {
     "name": "stderr",
     "output_type": "stream",
     "text": [
      "Epoch 69/1000: 100%|██████████| 18/18 [00:00<00:00, 65.19it/s, loss=0.744]\n",
      "Validation Progress: 100%|██████████| 5/5 [00:00<00:00, 275.80it/s]\n"
     ]
    },
    {
     "name": "stdout",
     "output_type": "stream",
     "text": [
      "Epoch 69: Train Loss = 0.7136, Validation Loss = 0.6425\n",
      "lr: 0.0001\n",
      "EarlyStopping counter: 9 out of 50\n"
     ]
    },
    {
     "name": "stderr",
     "output_type": "stream",
     "text": [
      "Epoch 70/1000: 100%|██████████| 18/18 [00:00<00:00, 64.98it/s, loss=1.04] \n",
      "Validation Progress: 100%|██████████| 5/5 [00:00<00:00, 284.64it/s]\n"
     ]
    },
    {
     "name": "stdout",
     "output_type": "stream",
     "text": [
      "Epoch 70: Train Loss = 0.7131, Validation Loss = 0.6337\n",
      "lr: 0.0001\n",
      "EarlyStopping counter: 10 out of 50\n"
     ]
    },
    {
     "name": "stderr",
     "output_type": "stream",
     "text": [
      "Epoch 71/1000: 100%|██████████| 18/18 [00:00<00:00, 65.06it/s, loss=0.57] \n",
      "Validation Progress: 100%|██████████| 5/5 [00:00<00:00, 277.24it/s]\n"
     ]
    },
    {
     "name": "stdout",
     "output_type": "stream",
     "text": [
      "Epoch 71: Train Loss = 0.7169, Validation Loss = 0.6295\n",
      "lr: 5e-05\n",
      "EarlyStopping counter: 11 out of 50\n"
     ]
    },
    {
     "name": "stderr",
     "output_type": "stream",
     "text": [
      "Epoch 72/1000: 100%|██████████| 18/18 [00:00<00:00, 65.70it/s, loss=0.685]\n",
      "Validation Progress: 100%|██████████| 5/5 [00:00<00:00, 290.78it/s]\n"
     ]
    },
    {
     "name": "stdout",
     "output_type": "stream",
     "text": [
      "Epoch 72: Train Loss = 0.6659, Validation Loss = 0.6422\n",
      "lr: 5e-05\n",
      "EarlyStopping counter: 12 out of 50\n"
     ]
    },
    {
     "name": "stderr",
     "output_type": "stream",
     "text": [
      "Epoch 73/1000: 100%|██████████| 18/18 [00:00<00:00, 65.41it/s, loss=1.39] \n",
      "Validation Progress: 100%|██████████| 5/5 [00:00<00:00, 289.10it/s]\n"
     ]
    },
    {
     "name": "stdout",
     "output_type": "stream",
     "text": [
      "Epoch 73: Train Loss = 0.6892, Validation Loss = 0.6377\n",
      "lr: 5e-05\n",
      "EarlyStopping counter: 13 out of 50\n"
     ]
    },
    {
     "name": "stderr",
     "output_type": "stream",
     "text": [
      "Epoch 74/1000: 100%|██████████| 18/18 [00:00<00:00, 65.74it/s, loss=0.838]\n",
      "Validation Progress: 100%|██████████| 5/5 [00:00<00:00, 281.61it/s]\n"
     ]
    },
    {
     "name": "stdout",
     "output_type": "stream",
     "text": [
      "Epoch 74: Train Loss = 0.6549, Validation Loss = 0.6279\n",
      "lr: 5e-05\n",
      "EarlyStopping counter: 14 out of 50\n"
     ]
    },
    {
     "name": "stderr",
     "output_type": "stream",
     "text": [
      "Epoch 75/1000: 100%|██████████| 18/18 [00:00<00:00, 64.20it/s, loss=0.703]\n",
      "Validation Progress: 100%|██████████| 5/5 [00:00<00:00, 286.94it/s]\n"
     ]
    },
    {
     "name": "stdout",
     "output_type": "stream",
     "text": [
      "Epoch 75: Train Loss = 0.6636, Validation Loss = 0.6122\n",
      "lr: 5e-05\n",
      "Validation loss decreased (0.61224250 --> 0.61673340).  Saving model ...\n"
     ]
    },
    {
     "name": "stderr",
     "output_type": "stream",
     "text": [
      "Epoch 76/1000: 100%|██████████| 18/18 [00:00<00:00, 65.41it/s, loss=0.829]\n",
      "Validation Progress: 100%|██████████| 5/5 [00:00<00:00, 289.45it/s]\n"
     ]
    },
    {
     "name": "stdout",
     "output_type": "stream",
     "text": [
      "Epoch 76: Train Loss = 0.6641, Validation Loss = 0.6310\n",
      "lr: 5e-05\n",
      "EarlyStopping counter: 1 out of 50\n"
     ]
    },
    {
     "name": "stderr",
     "output_type": "stream",
     "text": [
      "Epoch 77/1000: 100%|██████████| 18/18 [00:00<00:00, 66.26it/s, loss=0.414]\n",
      "Validation Progress: 100%|██████████| 5/5 [00:00<00:00, 238.13it/s]\n"
     ]
    },
    {
     "name": "stdout",
     "output_type": "stream",
     "text": [
      "Epoch 77: Train Loss = 0.6697, Validation Loss = 0.6038\n",
      "lr: 5e-05\n",
      "Validation loss decreased (0.60380861 --> 0.61224250).  Saving model ...\n"
     ]
    },
    {
     "name": "stderr",
     "output_type": "stream",
     "text": [
      "Epoch 78/1000: 100%|██████████| 18/18 [00:00<00:00, 65.38it/s, loss=0.615]\n",
      "Validation Progress: 100%|██████████| 5/5 [00:00<00:00, 293.78it/s]\n"
     ]
    },
    {
     "name": "stdout",
     "output_type": "stream",
     "text": [
      "Epoch 78: Train Loss = 0.6767, Validation Loss = 0.6358\n",
      "lr: 5e-05\n",
      "EarlyStopping counter: 1 out of 50\n"
     ]
    },
    {
     "name": "stderr",
     "output_type": "stream",
     "text": [
      "Epoch 79/1000: 100%|██████████| 18/18 [00:00<00:00, 65.66it/s, loss=0.521]\n",
      "Validation Progress: 100%|██████████| 5/5 [00:00<00:00, 286.34it/s]\n"
     ]
    },
    {
     "name": "stdout",
     "output_type": "stream",
     "text": [
      "Epoch 79: Train Loss = 0.6587, Validation Loss = 0.6175\n",
      "lr: 5e-05\n",
      "EarlyStopping counter: 2 out of 50\n"
     ]
    },
    {
     "name": "stderr",
     "output_type": "stream",
     "text": [
      "Epoch 80/1000: 100%|██████████| 18/18 [00:00<00:00, 62.68it/s, loss=0.753]\n",
      "Validation Progress: 100%|██████████| 5/5 [00:00<00:00, 284.39it/s]\n"
     ]
    },
    {
     "name": "stdout",
     "output_type": "stream",
     "text": [
      "Epoch 80: Train Loss = 0.6653, Validation Loss = 0.6474\n",
      "lr: 5e-05\n",
      "EarlyStopping counter: 3 out of 50\n"
     ]
    },
    {
     "name": "stderr",
     "output_type": "stream",
     "text": [
      "Epoch 81/1000: 100%|██████████| 18/18 [00:00<00:00, 65.72it/s, loss=0.707]\n",
      "Validation Progress: 100%|██████████| 5/5 [00:00<00:00, 282.27it/s]\n"
     ]
    },
    {
     "name": "stdout",
     "output_type": "stream",
     "text": [
      "Epoch 81: Train Loss = 0.6673, Validation Loss = 0.6327\n",
      "lr: 5e-05\n",
      "EarlyStopping counter: 4 out of 50\n"
     ]
    },
    {
     "name": "stderr",
     "output_type": "stream",
     "text": [
      "Epoch 82/1000: 100%|██████████| 18/18 [00:00<00:00, 66.65it/s, loss=0.566]\n",
      "Validation Progress: 100%|██████████| 5/5 [00:00<00:00, 296.47it/s]\n"
     ]
    },
    {
     "name": "stdout",
     "output_type": "stream",
     "text": [
      "Epoch 82: Train Loss = 0.6487, Validation Loss = 0.6307\n",
      "lr: 5e-05\n",
      "EarlyStopping counter: 5 out of 50\n"
     ]
    },
    {
     "name": "stderr",
     "output_type": "stream",
     "text": [
      "Epoch 83/1000: 100%|██████████| 18/18 [00:00<00:00, 65.79it/s, loss=0.537]\n",
      "Validation Progress: 100%|██████████| 5/5 [00:00<00:00, 285.18it/s]\n"
     ]
    },
    {
     "name": "stdout",
     "output_type": "stream",
     "text": [
      "Epoch 83: Train Loss = 0.6639, Validation Loss = 0.6260\n",
      "lr: 5e-05\n",
      "EarlyStopping counter: 6 out of 50\n"
     ]
    },
    {
     "name": "stderr",
     "output_type": "stream",
     "text": [
      "Epoch 84/1000: 100%|██████████| 18/18 [00:00<00:00, 65.22it/s, loss=1.03] \n",
      "Validation Progress: 100%|██████████| 5/5 [00:00<00:00, 284.95it/s]\n"
     ]
    },
    {
     "name": "stdout",
     "output_type": "stream",
     "text": [
      "Epoch 84: Train Loss = 0.6685, Validation Loss = 0.6208\n",
      "lr: 5e-05\n",
      "EarlyStopping counter: 7 out of 50\n"
     ]
    },
    {
     "name": "stderr",
     "output_type": "stream",
     "text": [
      "Epoch 85/1000: 100%|██████████| 18/18 [00:00<00:00, 65.59it/s, loss=0.406]\n",
      "Validation Progress: 100%|██████████| 5/5 [00:00<00:00, 297.69it/s]\n"
     ]
    },
    {
     "name": "stdout",
     "output_type": "stream",
     "text": [
      "Epoch 85: Train Loss = 0.6490, Validation Loss = 0.6455\n",
      "lr: 5e-05\n",
      "EarlyStopping counter: 8 out of 50\n"
     ]
    },
    {
     "name": "stderr",
     "output_type": "stream",
     "text": [
      "Epoch 86/1000: 100%|██████████| 18/18 [00:00<00:00, 64.18it/s, loss=1.08] \n",
      "Validation Progress: 100%|██████████| 5/5 [00:00<00:00, 279.78it/s]\n"
     ]
    },
    {
     "name": "stdout",
     "output_type": "stream",
     "text": [
      "Epoch 86: Train Loss = 0.6787, Validation Loss = 0.6227\n",
      "lr: 5e-05\n",
      "EarlyStopping counter: 9 out of 50\n"
     ]
    },
    {
     "name": "stderr",
     "output_type": "stream",
     "text": [
      "Epoch 87/1000: 100%|██████████| 18/18 [00:00<00:00, 65.56it/s, loss=1.04] \n",
      "Validation Progress: 100%|██████████| 5/5 [00:00<00:00, 289.22it/s]\n"
     ]
    },
    {
     "name": "stdout",
     "output_type": "stream",
     "text": [
      "Epoch 87: Train Loss = 0.6500, Validation Loss = 0.6448\n",
      "lr: 5e-05\n",
      "EarlyStopping counter: 10 out of 50\n"
     ]
    },
    {
     "name": "stderr",
     "output_type": "stream",
     "text": [
      "Epoch 88/1000: 100%|██████████| 18/18 [00:00<00:00, 65.47it/s, loss=0.225]\n",
      "Validation Progress: 100%|██████████| 5/5 [00:00<00:00, 294.10it/s]\n"
     ]
    },
    {
     "name": "stdout",
     "output_type": "stream",
     "text": [
      "Epoch 88: Train Loss = 0.6066, Validation Loss = 0.6315\n",
      "lr: 2.5e-05\n",
      "EarlyStopping counter: 11 out of 50\n"
     ]
    },
    {
     "name": "stderr",
     "output_type": "stream",
     "text": [
      "Epoch 89/1000: 100%|██████████| 18/18 [00:00<00:00, 65.47it/s, loss=0.591]\n",
      "Validation Progress: 100%|██████████| 5/5 [00:00<00:00, 285.05it/s]\n"
     ]
    },
    {
     "name": "stdout",
     "output_type": "stream",
     "text": [
      "Epoch 89: Train Loss = 0.6210, Validation Loss = 0.6275\n",
      "lr: 2.5e-05\n",
      "EarlyStopping counter: 12 out of 50\n"
     ]
    },
    {
     "name": "stderr",
     "output_type": "stream",
     "text": [
      "Epoch 90/1000: 100%|██████████| 18/18 [00:00<00:00, 64.70it/s, loss=0.575]\n",
      "Validation Progress: 100%|██████████| 5/5 [00:00<00:00, 295.23it/s]\n"
     ]
    },
    {
     "name": "stdout",
     "output_type": "stream",
     "text": [
      "Epoch 90: Train Loss = 0.6249, Validation Loss = 0.6390\n",
      "lr: 2.5e-05\n",
      "EarlyStopping counter: 13 out of 50\n"
     ]
    },
    {
     "name": "stderr",
     "output_type": "stream",
     "text": [
      "Epoch 91/1000: 100%|██████████| 18/18 [00:00<00:00, 65.06it/s, loss=0.36] \n",
      "Validation Progress: 100%|██████████| 5/5 [00:00<00:00, 290.85it/s]\n"
     ]
    },
    {
     "name": "stdout",
     "output_type": "stream",
     "text": [
      "Epoch 91: Train Loss = 0.6273, Validation Loss = 0.6384\n",
      "lr: 2.5e-05\n",
      "EarlyStopping counter: 14 out of 50\n"
     ]
    },
    {
     "name": "stderr",
     "output_type": "stream",
     "text": [
      "Epoch 92/1000: 100%|██████████| 18/18 [00:00<00:00, 66.47it/s, loss=0.76] \n",
      "Validation Progress: 100%|██████████| 5/5 [00:00<00:00, 291.51it/s]\n"
     ]
    },
    {
     "name": "stdout",
     "output_type": "stream",
     "text": [
      "Epoch 92: Train Loss = 0.6335, Validation Loss = 0.6477\n",
      "lr: 2.5e-05\n",
      "EarlyStopping counter: 15 out of 50\n"
     ]
    },
    {
     "name": "stderr",
     "output_type": "stream",
     "text": [
      "Epoch 93/1000: 100%|██████████| 18/18 [00:00<00:00, 66.22it/s, loss=0.541]\n",
      "Validation Progress: 100%|██████████| 5/5 [00:00<00:00, 292.02it/s]\n"
     ]
    },
    {
     "name": "stdout",
     "output_type": "stream",
     "text": [
      "Epoch 93: Train Loss = 0.6563, Validation Loss = 0.6413\n",
      "lr: 2.5e-05\n",
      "EarlyStopping counter: 16 out of 50\n"
     ]
    },
    {
     "name": "stderr",
     "output_type": "stream",
     "text": [
      "Epoch 94/1000: 100%|██████████| 18/18 [00:00<00:00, 65.54it/s, loss=0.608]\n",
      "Validation Progress: 100%|██████████| 5/5 [00:00<00:00, 285.41it/s]\n"
     ]
    },
    {
     "name": "stdout",
     "output_type": "stream",
     "text": [
      "Epoch 94: Train Loss = 0.6608, Validation Loss = 0.6338\n",
      "lr: 2.5e-05\n",
      "EarlyStopping counter: 17 out of 50\n"
     ]
    },
    {
     "name": "stderr",
     "output_type": "stream",
     "text": [
      "Epoch 95/1000: 100%|██████████| 18/18 [00:00<00:00, 65.02it/s, loss=0.329]\n",
      "Validation Progress: 100%|██████████| 5/5 [00:00<00:00, 294.32it/s]\n"
     ]
    },
    {
     "name": "stdout",
     "output_type": "stream",
     "text": [
      "Epoch 95: Train Loss = 0.6368, Validation Loss = 0.6498\n",
      "lr: 2.5e-05\n",
      "EarlyStopping counter: 18 out of 50\n"
     ]
    },
    {
     "name": "stderr",
     "output_type": "stream",
     "text": [
      "Epoch 96/1000: 100%|██████████| 18/18 [00:00<00:00, 65.66it/s, loss=0.375]\n",
      "Validation Progress: 100%|██████████| 5/5 [00:00<00:00, 283.31it/s]\n"
     ]
    },
    {
     "name": "stdout",
     "output_type": "stream",
     "text": [
      "Epoch 96: Train Loss = 0.6347, Validation Loss = 0.6498\n",
      "lr: 2.5e-05\n",
      "EarlyStopping counter: 19 out of 50\n"
     ]
    },
    {
     "name": "stderr",
     "output_type": "stream",
     "text": [
      "Epoch 97/1000: 100%|██████████| 18/18 [00:00<00:00, 64.64it/s, loss=0.501]\n",
      "Validation Progress: 100%|██████████| 5/5 [00:00<00:00, 289.92it/s]\n"
     ]
    },
    {
     "name": "stdout",
     "output_type": "stream",
     "text": [
      "Epoch 97: Train Loss = 0.6437, Validation Loss = 0.6332\n",
      "lr: 2.5e-05\n",
      "EarlyStopping counter: 20 out of 50\n"
     ]
    },
    {
     "name": "stderr",
     "output_type": "stream",
     "text": [
      "Epoch 98/1000: 100%|██████████| 18/18 [00:00<00:00, 65.82it/s, loss=0.488]\n",
      "Validation Progress: 100%|██████████| 5/5 [00:00<00:00, 295.64it/s]\n"
     ]
    },
    {
     "name": "stdout",
     "output_type": "stream",
     "text": [
      "Epoch 98: Train Loss = 0.6271, Validation Loss = 0.6366\n",
      "lr: 2.5e-05\n",
      "EarlyStopping counter: 21 out of 50\n"
     ]
    },
    {
     "name": "stderr",
     "output_type": "stream",
     "text": [
      "Epoch 99/1000: 100%|██████████| 18/18 [00:00<00:00, 65.64it/s, loss=0.398]\n",
      "Validation Progress: 100%|██████████| 5/5 [00:00<00:00, 286.95it/s]\n"
     ]
    },
    {
     "name": "stdout",
     "output_type": "stream",
     "text": [
      "Epoch 99: Train Loss = 0.6318, Validation Loss = 0.6568\n",
      "lr: 1.25e-05\n",
      "EarlyStopping counter: 22 out of 50\n"
     ]
    },
    {
     "name": "stderr",
     "output_type": "stream",
     "text": [
      "Epoch 100/1000: 100%|██████████| 18/18 [00:00<00:00, 64.83it/s, loss=0.485]\n",
      "Validation Progress: 100%|██████████| 5/5 [00:00<00:00, 297.85it/s]\n"
     ]
    },
    {
     "name": "stdout",
     "output_type": "stream",
     "text": [
      "Epoch 100: Train Loss = 0.6548, Validation Loss = 0.6426\n",
      "lr: 1.25e-05\n",
      "EarlyStopping counter: 23 out of 50\n"
     ]
    },
    {
     "name": "stderr",
     "output_type": "stream",
     "text": [
      "Epoch 101/1000: 100%|██████████| 18/18 [00:00<00:00, 65.08it/s, loss=0.567]\n",
      "Validation Progress: 100%|██████████| 5/5 [00:00<00:00, 289.43it/s]\n"
     ]
    },
    {
     "name": "stdout",
     "output_type": "stream",
     "text": [
      "Epoch 101: Train Loss = 0.6409, Validation Loss = 0.6359\n",
      "lr: 1.25e-05\n",
      "EarlyStopping counter: 24 out of 50\n"
     ]
    },
    {
     "name": "stderr",
     "output_type": "stream",
     "text": [
      "Epoch 102/1000: 100%|██████████| 18/18 [00:00<00:00, 62.20it/s, loss=0.489]\n",
      "Validation Progress: 100%|██████████| 5/5 [00:00<00:00, 282.86it/s]\n"
     ]
    },
    {
     "name": "stdout",
     "output_type": "stream",
     "text": [
      "Epoch 102: Train Loss = 0.6184, Validation Loss = 0.6425\n",
      "lr: 1.25e-05\n",
      "EarlyStopping counter: 25 out of 50\n"
     ]
    },
    {
     "name": "stderr",
     "output_type": "stream",
     "text": [
      "Epoch 103/1000: 100%|██████████| 18/18 [00:00<00:00, 65.20it/s, loss=0.427]\n",
      "Validation Progress: 100%|██████████| 5/5 [00:00<00:00, 296.92it/s]\n"
     ]
    },
    {
     "name": "stdout",
     "output_type": "stream",
     "text": [
      "Epoch 103: Train Loss = 0.6491, Validation Loss = 0.6458\n",
      "lr: 1.25e-05\n",
      "EarlyStopping counter: 26 out of 50\n"
     ]
    },
    {
     "name": "stderr",
     "output_type": "stream",
     "text": [
      "Epoch 104/1000: 100%|██████████| 18/18 [00:00<00:00, 65.42it/s, loss=1.18] \n",
      "Validation Progress: 100%|██████████| 5/5 [00:00<00:00, 286.43it/s]\n"
     ]
    },
    {
     "name": "stdout",
     "output_type": "stream",
     "text": [
      "Epoch 104: Train Loss = 0.6408, Validation Loss = 0.6484\n",
      "lr: 1.25e-05\n",
      "EarlyStopping counter: 27 out of 50\n"
     ]
    },
    {
     "name": "stderr",
     "output_type": "stream",
     "text": [
      "Epoch 105/1000: 100%|██████████| 18/18 [00:00<00:00, 64.94it/s, loss=0.721]\n",
      "Validation Progress: 100%|██████████| 5/5 [00:00<00:00, 288.65it/s]\n"
     ]
    },
    {
     "name": "stdout",
     "output_type": "stream",
     "text": [
      "Epoch 105: Train Loss = 0.6302, Validation Loss = 0.6368\n",
      "lr: 1.25e-05\n",
      "EarlyStopping counter: 28 out of 50\n"
     ]
    },
    {
     "name": "stderr",
     "output_type": "stream",
     "text": [
      "Epoch 106/1000: 100%|██████████| 18/18 [00:00<00:00, 65.68it/s, loss=0.382]\n",
      "Validation Progress: 100%|██████████| 5/5 [00:00<00:00, 287.46it/s]\n"
     ]
    },
    {
     "name": "stdout",
     "output_type": "stream",
     "text": [
      "Epoch 106: Train Loss = 0.6230, Validation Loss = 0.6347\n",
      "lr: 1.25e-05\n",
      "EarlyStopping counter: 29 out of 50\n"
     ]
    },
    {
     "name": "stderr",
     "output_type": "stream",
     "text": [
      "Epoch 107/1000: 100%|██████████| 18/18 [00:00<00:00, 64.37it/s, loss=0.406]\n",
      "Validation Progress: 100%|██████████| 5/5 [00:00<00:00, 280.43it/s]\n"
     ]
    },
    {
     "name": "stdout",
     "output_type": "stream",
     "text": [
      "Epoch 107: Train Loss = 0.6203, Validation Loss = 0.6395\n",
      "lr: 1.25e-05\n",
      "EarlyStopping counter: 30 out of 50\n"
     ]
    },
    {
     "name": "stderr",
     "output_type": "stream",
     "text": [
      "Epoch 108/1000: 100%|██████████| 18/18 [00:00<00:00, 63.64it/s, loss=0.816]\n",
      "Validation Progress: 100%|██████████| 5/5 [00:00<00:00, 288.75it/s]\n"
     ]
    },
    {
     "name": "stdout",
     "output_type": "stream",
     "text": [
      "Epoch 108: Train Loss = 0.6545, Validation Loss = 0.6417\n",
      "lr: 1.25e-05\n",
      "EarlyStopping counter: 31 out of 50\n"
     ]
    },
    {
     "name": "stderr",
     "output_type": "stream",
     "text": [
      "Epoch 109/1000: 100%|██████████| 18/18 [00:00<00:00, 65.16it/s, loss=0.781]\n",
      "Validation Progress: 100%|██████████| 5/5 [00:00<00:00, 285.83it/s]\n"
     ]
    },
    {
     "name": "stdout",
     "output_type": "stream",
     "text": [
      "Epoch 109: Train Loss = 0.6316, Validation Loss = 0.6443\n",
      "lr: 1.25e-05\n",
      "EarlyStopping counter: 32 out of 50\n"
     ]
    },
    {
     "name": "stderr",
     "output_type": "stream",
     "text": [
      "Epoch 110/1000: 100%|██████████| 18/18 [00:00<00:00, 65.27it/s, loss=0.578]\n",
      "Validation Progress: 100%|██████████| 5/5 [00:00<00:00, 288.72it/s]\n"
     ]
    },
    {
     "name": "stdout",
     "output_type": "stream",
     "text": [
      "Epoch 110: Train Loss = 0.6208, Validation Loss = 0.6490\n",
      "lr: 6.25e-06\n",
      "EarlyStopping counter: 33 out of 50\n"
     ]
    },
    {
     "name": "stderr",
     "output_type": "stream",
     "text": [
      "Epoch 111/1000: 100%|██████████| 18/18 [00:00<00:00, 65.01it/s, loss=0.48] \n",
      "Validation Progress: 100%|██████████| 5/5 [00:00<00:00, 278.04it/s]\n"
     ]
    },
    {
     "name": "stdout",
     "output_type": "stream",
     "text": [
      "Epoch 111: Train Loss = 0.6271, Validation Loss = 0.6520\n",
      "lr: 6.25e-06\n",
      "EarlyStopping counter: 34 out of 50\n"
     ]
    },
    {
     "name": "stderr",
     "output_type": "stream",
     "text": [
      "Epoch 112/1000: 100%|██████████| 18/18 [00:00<00:00, 65.05it/s, loss=0.311]\n",
      "Validation Progress: 100%|██████████| 5/5 [00:00<00:00, 285.55it/s]\n"
     ]
    },
    {
     "name": "stdout",
     "output_type": "stream",
     "text": [
      "Epoch 112: Train Loss = 0.6245, Validation Loss = 0.6504\n",
      "lr: 6.25e-06\n",
      "EarlyStopping counter: 35 out of 50\n"
     ]
    },
    {
     "name": "stderr",
     "output_type": "stream",
     "text": [
      "Epoch 113/1000: 100%|██████████| 18/18 [00:00<00:00, 61.39it/s, loss=0.483]\n",
      "Validation Progress: 100%|██████████| 5/5 [00:00<00:00, 284.93it/s]\n"
     ]
    },
    {
     "name": "stdout",
     "output_type": "stream",
     "text": [
      "Epoch 113: Train Loss = 0.6400, Validation Loss = 0.6479\n",
      "lr: 6.25e-06\n",
      "EarlyStopping counter: 36 out of 50\n"
     ]
    },
    {
     "name": "stderr",
     "output_type": "stream",
     "text": [
      "Epoch 114/1000: 100%|██████████| 18/18 [00:00<00:00, 65.07it/s, loss=0.628]\n",
      "Validation Progress: 100%|██████████| 5/5 [00:00<00:00, 288.93it/s]\n"
     ]
    },
    {
     "name": "stdout",
     "output_type": "stream",
     "text": [
      "Epoch 114: Train Loss = 0.6407, Validation Loss = 0.6415\n",
      "lr: 6.25e-06\n",
      "EarlyStopping counter: 37 out of 50\n"
     ]
    },
    {
     "name": "stderr",
     "output_type": "stream",
     "text": [
      "Epoch 115/1000: 100%|██████████| 18/18 [00:00<00:00, 65.38it/s, loss=0.468]\n",
      "Validation Progress: 100%|██████████| 5/5 [00:00<00:00, 278.86it/s]\n"
     ]
    },
    {
     "name": "stdout",
     "output_type": "stream",
     "text": [
      "Epoch 115: Train Loss = 0.6167, Validation Loss = 0.6394\n",
      "lr: 6.25e-06\n",
      "EarlyStopping counter: 38 out of 50\n"
     ]
    },
    {
     "name": "stderr",
     "output_type": "stream",
     "text": [
      "Epoch 116/1000: 100%|██████████| 18/18 [00:00<00:00, 64.42it/s, loss=0.505]\n",
      "Validation Progress: 100%|██████████| 5/5 [00:00<00:00, 280.60it/s]\n"
     ]
    },
    {
     "name": "stdout",
     "output_type": "stream",
     "text": [
      "Epoch 116: Train Loss = 0.6073, Validation Loss = 0.6413\n",
      "lr: 6.25e-06\n",
      "EarlyStopping counter: 39 out of 50\n"
     ]
    },
    {
     "name": "stderr",
     "output_type": "stream",
     "text": [
      "Epoch 117/1000: 100%|██████████| 18/18 [00:00<00:00, 65.20it/s, loss=1.33] \n",
      "Validation Progress: 100%|██████████| 5/5 [00:00<00:00, 279.99it/s]\n"
     ]
    },
    {
     "name": "stdout",
     "output_type": "stream",
     "text": [
      "Epoch 117: Train Loss = 0.6497, Validation Loss = 0.6391\n",
      "lr: 6.25e-06\n",
      "EarlyStopping counter: 40 out of 50\n"
     ]
    },
    {
     "name": "stderr",
     "output_type": "stream",
     "text": [
      "Epoch 118/1000: 100%|██████████| 18/18 [00:00<00:00, 63.67it/s, loss=0.552]\n",
      "Validation Progress: 100%|██████████| 5/5 [00:00<00:00, 284.04it/s]\n"
     ]
    },
    {
     "name": "stdout",
     "output_type": "stream",
     "text": [
      "Epoch 118: Train Loss = 0.6099, Validation Loss = 0.6460\n",
      "lr: 6.25e-06\n",
      "EarlyStopping counter: 41 out of 50\n"
     ]
    },
    {
     "name": "stderr",
     "output_type": "stream",
     "text": [
      "Epoch 119/1000: 100%|██████████| 18/18 [00:00<00:00, 65.08it/s, loss=1.05] \n",
      "Validation Progress: 100%|██████████| 5/5 [00:00<00:00, 275.88it/s]\n"
     ]
    },
    {
     "name": "stdout",
     "output_type": "stream",
     "text": [
      "Epoch 119: Train Loss = 0.6355, Validation Loss = 0.6485\n",
      "lr: 6.25e-06\n",
      "EarlyStopping counter: 42 out of 50\n"
     ]
    },
    {
     "name": "stderr",
     "output_type": "stream",
     "text": [
      "Epoch 120/1000: 100%|██████████| 18/18 [00:00<00:00, 64.67it/s, loss=0.648]\n",
      "Validation Progress: 100%|██████████| 5/5 [00:00<00:00, 291.96it/s]\n"
     ]
    },
    {
     "name": "stdout",
     "output_type": "stream",
     "text": [
      "Epoch 120: Train Loss = 0.5921, Validation Loss = 0.6450\n",
      "lr: 6.25e-06\n",
      "EarlyStopping counter: 43 out of 50\n"
     ]
    },
    {
     "name": "stderr",
     "output_type": "stream",
     "text": [
      "Epoch 121/1000: 100%|██████████| 18/18 [00:00<00:00, 65.06it/s, loss=0.644]\n",
      "Validation Progress: 100%|██████████| 5/5 [00:00<00:00, 291.06it/s]\n"
     ]
    },
    {
     "name": "stdout",
     "output_type": "stream",
     "text": [
      "Epoch 121: Train Loss = 0.6248, Validation Loss = 0.6459\n",
      "lr: 3.125e-06\n",
      "EarlyStopping counter: 44 out of 50\n"
     ]
    },
    {
     "name": "stderr",
     "output_type": "stream",
     "text": [
      "Epoch 122/1000: 100%|██████████| 18/18 [00:00<00:00, 65.74it/s, loss=0.713]\n",
      "Validation Progress: 100%|██████████| 5/5 [00:00<00:00, 283.56it/s]\n"
     ]
    },
    {
     "name": "stdout",
     "output_type": "stream",
     "text": [
      "Epoch 122: Train Loss = 0.6113, Validation Loss = 0.6445\n",
      "lr: 3.125e-06\n",
      "EarlyStopping counter: 45 out of 50\n"
     ]
    },
    {
     "name": "stderr",
     "output_type": "stream",
     "text": [
      "Epoch 123/1000: 100%|██████████| 18/18 [00:00<00:00, 65.22it/s, loss=0.455]\n",
      "Validation Progress: 100%|██████████| 5/5 [00:00<00:00, 281.94it/s]\n"
     ]
    },
    {
     "name": "stdout",
     "output_type": "stream",
     "text": [
      "Epoch 123: Train Loss = 0.6262, Validation Loss = 0.6452\n",
      "lr: 3.125e-06\n",
      "EarlyStopping counter: 46 out of 50\n"
     ]
    },
    {
     "name": "stderr",
     "output_type": "stream",
     "text": [
      "Epoch 124/1000: 100%|██████████| 18/18 [00:00<00:00, 61.86it/s, loss=0.54] \n",
      "Validation Progress: 100%|██████████| 5/5 [00:00<00:00, 281.37it/s]\n"
     ]
    },
    {
     "name": "stdout",
     "output_type": "stream",
     "text": [
      "Epoch 124: Train Loss = 0.6267, Validation Loss = 0.6493\n",
      "lr: 3.125e-06\n",
      "EarlyStopping counter: 47 out of 50\n"
     ]
    },
    {
     "name": "stderr",
     "output_type": "stream",
     "text": [
      "Epoch 125/1000: 100%|██████████| 18/18 [00:00<00:00, 65.06it/s, loss=0.837]\n",
      "Validation Progress: 100%|██████████| 5/5 [00:00<00:00, 278.66it/s]\n"
     ]
    },
    {
     "name": "stdout",
     "output_type": "stream",
     "text": [
      "Epoch 125: Train Loss = 0.6041, Validation Loss = 0.6499\n",
      "lr: 3.125e-06\n",
      "EarlyStopping counter: 48 out of 50\n"
     ]
    },
    {
     "name": "stderr",
     "output_type": "stream",
     "text": [
      "Epoch 126/1000: 100%|██████████| 18/18 [00:00<00:00, 64.65it/s, loss=0.742]\n",
      "Validation Progress: 100%|██████████| 5/5 [00:00<00:00, 289.92it/s]\n"
     ]
    },
    {
     "name": "stdout",
     "output_type": "stream",
     "text": [
      "Epoch 126: Train Loss = 0.5960, Validation Loss = 0.6480\n",
      "lr: 3.125e-06\n",
      "EarlyStopping counter: 49 out of 50\n"
     ]
    },
    {
     "name": "stderr",
     "output_type": "stream",
     "text": [
      "Epoch 127/1000: 100%|██████████| 18/18 [00:00<00:00, 64.59it/s, loss=0.776]\n",
      "Validation Progress: 100%|██████████| 5/5 [00:00<00:00, 288.98it/s]"
     ]
    },
    {
     "name": "stdout",
     "output_type": "stream",
     "text": [
      "Epoch 127: Train Loss = 0.6250, Validation Loss = 0.6485\n",
      "lr: 3.125e-06\n",
      "EarlyStopping counter: 50 out of 50\n",
      "Early stopping\n"
     ]
    },
    {
     "name": "stderr",
     "output_type": "stream",
     "text": [
      "\n"
     ]
    }
   ],
   "source": [
    "for epoch in range(1, epochs + 1):\n",
    "        model.train()\n",
    "        train_loss = 0\n",
    "        with tqdm(train_loader, desc=f\"Epoch {epoch}/{epochs}\") as train_progress:\n",
    "            for inputs, targets in train_progress:\n",
    "                inputs, targets = inputs.to(device), targets.to(device)\n",
    "                optimizer.zero_grad()\n",
    "                outputs = model(inputs)\n",
    "                loss = loss_mse(outputs[:, :-1], targets[:, :-1]) + loss_bce(outputs[:, -1], targets[:, -1])\n",
    "                loss.backward()\n",
    "                optimizer.step()\n",
    "                train_loss += loss.item()\n",
    "                train_progress.set_postfix(loss=loss.item())\n",
    "\n",
    "        val_loss = Validation(model, valid_loader)\n",
    "        print(f\"Epoch {epoch}: Train Loss = {train_loss / len(train_loader):.4f}, Validation Loss = {val_loss:.4f}\")\n",
    "        scheduler.step(val_loss)\n",
    "        print(\"lr:\",optimizer.param_groups[0]['lr'])\n",
    "        earlystopping(val_loss, model, epoch)\n",
    "        if earlystopping.early_stop:\n",
    "            print(\"Early stopping\")\n",
    "            break"
   ]
  }
 ],
 "metadata": {
  "kernelspec": {
   "display_name": "bigdata2",
   "language": "python",
   "name": "python3"
  },
  "language_info": {
   "codemirror_mode": {
    "name": "ipython",
    "version": 3
   },
   "file_extension": ".py",
   "mimetype": "text/x-python",
   "name": "python",
   "nbconvert_exporter": "python",
   "pygments_lexer": "ipython3",
   "version": "3.10.14"
  }
 },
 "nbformat": 4,
 "nbformat_minor": 2
}
