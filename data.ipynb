{
 "cells": [
  {
   "cell_type": "code",
   "execution_count": 3,
   "metadata": {},
   "outputs": [
    {
     "name": "stderr",
     "output_type": "stream",
     "text": [
      "2024-12-27 17:54:33.916 | WARNING  | importlib._bootstrap:_call_with_frames_removed:228 - Optional: pip install shioaji[speed] for better performance.\n"
     ]
    }
   ],
   "source": [
    "# 匯入 Shioaji 套件\n",
    "import shioaji as sj\n",
    "import pandas as pd\n",
    "from shioaji import constant\n",
    "from datetime import datetime, timedelta\n",
    "from shioaji import TickFOPv1, BidAskFOPv1, Exchange\n",
    "import os\n",
    "import numpy as np\n",
    "from tqdm import tqdm\n",
    "import time\n"
   ]
  },
  {
   "cell_type": "code",
   "execution_count": 4,
   "metadata": {},
   "outputs": [
    {
     "name": "stdout",
     "output_type": "stream",
     "text": [
      "Response Code: 0 | Event Code: 0 | Info: host '210.59.255.161:80', hostname '210.59.255.161:80' IP 210.59.255.161:80 (host 1 of 1) (host connection attempt 1 of 1) (total connection attempt 1 of 1) | Event: Session up\n",
      "connections=1 limit_bytes=524288000 remaining_bytes=524288000\n"
     ]
    }
   ],
   "source": [
    "# 建立 Shioaji api 物件\n",
    "api = sj.Shioaji(simulation=True)\n",
    "\n",
    "acc = api.login(\n",
    "    api_key=\"\",\n",
    "    secret_key=\"\"\n",
    ")#個人帳戶資料\n",
    "\n",
    "print(api.usage())"
   ]
  },
  {
   "cell_type": "code",
   "execution_count": 5,
   "metadata": {},
   "outputs": [],
   "source": [
    "\n",
    "def get_date_range(start_date, end_date):\n",
    "    \"\"\"\n",
    "    生成從 start_date 到 end_date 的日期範圍（包含起始和結束日期）。\n",
    "    \"\"\"\n",
    "    start = datetime.strptime(start_date, \"%Y-%m-%d\")\n",
    "    end = datetime.strptime(end_date, \"%Y-%m-%d\")\n",
    "    date_list = []\n",
    "    while start <= end:\n",
    "        date_list.append(start.strftime(\"%Y-%m-%d\"))\n",
    "        start += timedelta(days=1)\n",
    "    return date_list\n",
    "def save_kbars_to_csv(api, tic_num, start_date, end_date):\n",
    "    \"\"\"\n",
    "    按天下載 KBAR 資料，進行處理並保存為指定格式的 CSV。\n",
    "    \n",
    "    :param api: Shioaji API 實例\n",
    "    :param tic_num: 股票代碼\n",
    "    :param start_date: 起始日期 (YYYY-MM-DD)\n",
    "    :param end_date: 結束日期 (YYYY-MM-DD)\n",
    "    \"\"\"\n",
    "    # 創建根目錄資料夾\n",
    "    root_dir = f\"./{tic_num}_kbars\"\n",
    "    if not os.path.exists(root_dir):\n",
    "        os.makedirs(root_dir)\n",
    "\n",
    "    # 根據年份創建子資料夾\n",
    "    date_range = get_date_range(start_date, end_date)\n",
    "    progress_bar = tqdm(date_range, desc=\"Downloading KBAR Data\", unit=\"day\")\n",
    "\n",
    "    for date in progress_bar:\n",
    "        year = date.split(\"-\")[0]\n",
    "        year_dir = os.path.join(root_dir, year)\n",
    "        if not os.path.exists(year_dir):\n",
    "            os.makedirs(year_dir)\n",
    "\n",
    "        try:\n",
    "            progress_bar.set_postfix({\"Processing\": date})\n",
    "            \n",
    "            # 下載當日的 KBAR 資料\n",
    "            kbars = api.kbars(\n",
    "                contract=api.Contracts.Stocks[tic_num],\n",
    "                start=date,\n",
    "                end=date\n",
    "            )\n",
    "            \n",
    "            # 將 KBAR 資料轉為 DataFrame 並進行處理\n",
    "            df = pd.DataFrame({**kbars})\n",
    "            df['tic'] = [f'{tic_num}.TW'] * len(df['ts'])\n",
    "            df.pop('Amount')  # 移除 Amount 欄位\n",
    "            df.ts = pd.to_datetime(df.ts)  # 將 ts 轉為 datetime 格式\n",
    "            df = df.rename(columns={\n",
    "                'Volume': 'volume',\n",
    "                'Close': 'close',\n",
    "                'Open': 'open',\n",
    "                'High': 'high',\n",
    "                'Low': 'low',\n",
    "                'ts': 'date'\n",
    "            })\n",
    "            \n",
    "            # 儲存為 CSV 檔案\n",
    "            csv_file = os.path.join(year_dir, f\"{tic_num}_{date}_1min.csv\")\n",
    "            df.to_csv(csv_file, index=False)\n",
    "        except Exception as e:\n",
    "            progress_bar.set_postfix({\"Error\": f\"Failed for {date}\"})\n",
    "            print(f\"Failed to download KBAR for {date}: {e}\")\n",
    "\n",
    "        time.sleep(1)  # 避免過於頻繁的請求\n"
   ]
  },
  {
   "cell_type": "code",
   "execution_count": 6,
   "metadata": {},
   "outputs": [
    {
     "name": "stderr",
     "output_type": "stream",
     "text": [
      "Downloading KBAR Data: 100%|██████████| 1/1 [00:01<00:00,  1.22s/day, Processing=2023-01-03]\n"
     ]
    }
   ],
   "source": [
    "# 設定股票代碼與日期範圍\n",
    "# tic_num = \"2454\"  # 替換成目標股票代碼\n",
    "start_date = \"2023-01-03\"\n",
    "end_date = \"2023-01-03\"\n",
    "num = [\"2308\"]\n",
    "\n",
    "for i in num:\n",
    "    save_kbars_to_csv(api, i, start_date, end_date)"
   ]
  }
 ],
 "metadata": {
  "kernelspec": {
   "display_name": "base",
   "language": "python",
   "name": "python3"
  },
  "language_info": {
   "codemirror_mode": {
    "name": "ipython",
    "version": 3
   },
   "file_extension": ".py",
   "mimetype": "text/x-python",
   "name": "python",
   "nbconvert_exporter": "python",
   "pygments_lexer": "ipython3",
   "version": "3.9.18"
  }
 },
 "nbformat": 4,
 "nbformat_minor": 2
}
